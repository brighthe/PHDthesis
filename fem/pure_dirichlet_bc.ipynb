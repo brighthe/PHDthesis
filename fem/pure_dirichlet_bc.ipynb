{
 "cells": [
  {
   "cell_type": "code",
   "execution_count": 1,
   "metadata": {},
   "outputs": [],
   "source": [
    "from fealpy.mesh.triangle_mesh import TriangleMesh\n",
    "from fealpy.functionspace import LagrangeFESpace\n",
    "from fealpy.fem.diffusion_integrator import DiffusionIntegrator\n",
    "from fealpy.fem.scalar_source_integrator import ScalarSourceIntegrator\n",
    "from fealpy.fem.bilinear_form import BilinearForm\n",
    "from fealpy.fem.linear_form import LinearForm   \n",
    "\n",
    "from scipy.sparse.linalg import spsolve\n",
    "from scipy.sparse import spdiags\n",
    "\n",
    "from poisson_2d import CosCosData\n",
    "\n",
    "import numpy as np\n",
    "\n",
    "mesh = TriangleMesh.from_box(box=[0, 1, 0, 1], nx=3, ny=3)\n",
    "pde = CosCosData()\n",
    "p = 3\n",
    "space = LagrangeFESpace(mesh, p=p, spacetype='C', doforder='vdims')\n",
    "NDof = space.number_of_global_dofs()\n",
    "\n",
    "# Assemble the stiffness matrix\n",
    "bform = BilinearForm(space)\n",
    "bform.add_domain_integrator(DiffusionIntegrator(q=p+2))\n",
    "A0 = bform.assembly()\n",
    "\n",
    "# Assemble the load vector\n",
    "lform = LinearForm(space)\n",
    "lform.add_domain_integrator(ScalarSourceIntegrator(pde.source, q=p+2))\n",
    "F0 = lform.assembly()"
   ]
  },
  {
   "cell_type": "code",
   "execution_count": 2,
   "metadata": {},
   "outputs": [],
   "source": [
    "# Apply Dirichlet boundary conditions\n",
    "uh1 = space.function()\n",
    "isBdDof = space.is_boundary_dof()\n",
    "ipoints = space.interpolation_points() \n",
    "uh1[isBdDof] = pde.dirichlet(ipoints[isBdDof])\n",
    "\n",
    "F1 = F0 - A0@uh1 \n",
    "F1[isBdDof] = uh1[isBdDof]\n",
    "\n",
    "bdIdx = np.zeros(NDof, dtype=np.int_)\n",
    "bdIdx[isBdDof] = 1\n",
    "Tbd = spdiags(bdIdx, 0, NDof, NDof) \n",
    "T = spdiags(1-bdIdx, 0, NDof, NDof)\n",
    "A1 = T@A0@T + Tbd\n",
    "A1_is_symmetric = np.allclose(A1.toarray(), A1.toarray().T, atol=1e-6)\n",
    "\n",
    "uh1[:] = spsolve(A1, F1)"
   ]
  },
  {
   "cell_type": "code",
   "execution_count": 3,
   "metadata": {},
   "outputs": [],
   "source": [
    "# Apply Dirichlet boundary conditions\n",
    "uh2 = space.function()\n",
    "isBdDof = space.is_boundary_dof()\n",
    "ipoints = space.interpolation_points() \n",
    "uh2[isBdDof] = pde.dirichlet(ipoints[isBdDof])\n",
    "\n",
    "F2 = F0\n",
    "F2[isBdDof] = uh2[isBdDof]\n",
    "\n",
    "bdIdx = np.zeros(NDof, dtype=np.int_)\n",
    "bdIdx[isBdDof] = 1\n",
    "Tbd = spdiags(bdIdx, 0, NDof, NDof) \n",
    "T = spdiags(1-bdIdx, 0, NDof, NDof)\n",
    "A2 = T@A0 + Tbd\n",
    "A2_is_symmetric1 = np.allclose(A2.toarray(), A2.toarray().T, atol=1e-6)\n",
    "\n",
    "uh2[:] = spsolve(A2, F2)"
   ]
  },
  {
   "cell_type": "code",
   "execution_count": 4,
   "metadata": {},
   "outputs": [],
   "source": [
    "error = np.sum(np.abs(uh1 - uh2))"
   ]
  }
 ],
 "metadata": {
  "kernelspec": {
   "display_name": "Python 3",
   "language": "python",
   "name": "python3"
  },
  "language_info": {
   "codemirror_mode": {
    "name": "ipython",
    "version": 3
   },
   "file_extension": ".py",
   "mimetype": "text/x-python",
   "name": "python",
   "nbconvert_exporter": "python",
   "pygments_lexer": "ipython3",
   "version": "3.10.12"
  }
 },
 "nbformat": 4,
 "nbformat_minor": 2
}
