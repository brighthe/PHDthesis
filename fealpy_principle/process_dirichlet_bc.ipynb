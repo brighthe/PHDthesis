{
 "cells": [
  {
   "cell_type": "code",
   "metadata": {
    "ExecuteTime": {
     "end_time": "2024-06-26T02:18:00.485231Z",
     "start_time": "2024-06-26T02:18:00.479754Z"
    }
   },
   "source": [
    "from fealpy.mesh.triangle_mesh import TriangleMesh\n",
    "from fealpy.functionspace import LagrangeFESpace\n",
    "from fealpy.fem.diffusion_integrator import DiffusionIntegrator\n",
    "from fealpy.fem.scalar_source_integrator import ScalarSourceIntegrator\n",
    "from fealpy.fem.bilinear_form import BilinearForm\n",
    "from fealpy.fem.linear_form import LinearForm   \n",
    "\n",
    "from scipy.sparse.linalg import spsolve\n",
    "from scipy.sparse import spdiags\n",
    "\n",
    "from poisson_2d import CosCosData\n",
    "\n",
    "import numpy as np\n",
    "\n",
    "mesh = TriangleMesh.from_box(box=[0, 1, 0, 1], nx=3, ny=3)\n",
    "pde = CosCosData()\n",
    "p = 1\n",
    "space = LagrangeFESpace(mesh, p=p, spacetype='C', doforder='vdims')\n",
    "NDof = space.number_of_global_dofs()\n",
    "\n",
    "# Assemble the stiffness matrix\n",
    "bform = BilinearForm(space)\n",
    "bform.add_domain_integrator(DiffusionIntegrator(q=p+2))\n",
    "A0 = bform.assembly()\n",
    "\n",
    "# Assemble the load vector\n",
    "lform = LinearForm(space)\n",
    "lform.add_domain_integrator(ScalarSourceIntegrator(pde.source, q=p+2))\n",
    "F0 = lform.assembly()"
   ],
   "outputs": [],
   "execution_count": 17
  },
  {
   "metadata": {},
   "cell_type": "markdown",
   "source": "# 纯 Dirichlet 边界条件处理有两种方式"
  },
  {
   "metadata": {},
   "cell_type": "markdown",
   "source": "把 $F$ 中 Dirichlet 边界自由度对应的分量设真解的值，并把 $A$ 中 Dirichlet 边界自由度对应的行列的主对角元素改为 $1$，其他元素改为 $0$（这种方法可以保证矩阵 $A$ 是一个对称矩阵）"
  },
  {
   "cell_type": "code",
   "metadata": {
    "ExecuteTime": {
     "end_time": "2024-06-26T02:18:00.506968Z",
     "start_time": "2024-06-26T02:18:00.497079Z"
    }
   },
   "source": [
    "# Apply Dirichlet boundary conditions\n",
    "uh1 = space.function()\n",
    "isBdDof = space.is_boundary_dof()\n",
    "ipoints = space.interpolation_points() \n",
    "uh1[isBdDof] = pde.dirichlet(ipoints[isBdDof])\n",
    "\n",
    "F1 = F0 - A0@uh1 \n",
    "F1[isBdDof] = uh1[isBdDof]\n",
    "\n",
    "bdIdx = np.zeros(NDof, dtype=np.int_)\n",
    "bdIdx[isBdDof] = 1\n",
    "Tbd = spdiags(bdIdx, 0, NDof, NDof) \n",
    "T = spdiags(1-bdIdx, 0, NDof, NDof)\n",
    "A1 = T@A0@T + Tbd\n",
    "A1_is_symmetric = np.allclose(A1.toarray(), A1.toarray().T, atol=1e-6)\n",
    "print(\"A1_is_symmetric:\", A1_is_symmetric, \"\\n\", A1.toarray().round(4))\n",
    "\n",
    "uh1[:] = spsolve(A1, F1)\n",
    "print(\"uh1:\\n\", uh1)"
   ],
   "outputs": [
    {
     "name": "stdout",
     "output_type": "stream",
     "text": [
      "A1_is_symmetric: True \n",
      " [[ 1.  0.  0.  0.  0.  0.  0.  0.  0.  0.  0.  0.  0.  0.  0.  0.]\n",
      " [ 0.  1.  0.  0.  0.  0.  0.  0.  0.  0.  0.  0.  0.  0.  0.  0.]\n",
      " [ 0.  0.  1.  0.  0.  0.  0.  0.  0.  0.  0.  0.  0.  0.  0.  0.]\n",
      " [ 0.  0.  0.  1.  0.  0.  0.  0.  0.  0.  0.  0.  0.  0.  0.  0.]\n",
      " [ 0.  0.  0.  0.  1.  0.  0.  0.  0.  0.  0.  0.  0.  0.  0.  0.]\n",
      " [ 0.  0.  0.  0.  0.  4. -1.  0.  0. -1.  0.  0.  0.  0.  0.  0.]\n",
      " [ 0.  0.  0.  0.  0. -1.  4.  0.  0.  0. -1.  0.  0.  0.  0.  0.]\n",
      " [ 0.  0.  0.  0.  0.  0.  0.  1.  0.  0.  0.  0.  0.  0.  0.  0.]\n",
      " [ 0.  0.  0.  0.  0.  0.  0.  0.  1.  0.  0.  0.  0.  0.  0.  0.]\n",
      " [ 0.  0.  0.  0.  0. -1.  0.  0.  0.  4. -1.  0.  0.  0.  0.  0.]\n",
      " [ 0.  0.  0.  0.  0.  0. -1.  0.  0. -1.  4.  0.  0.  0.  0.  0.]\n",
      " [ 0.  0.  0.  0.  0.  0.  0.  0.  0.  0.  0.  1.  0.  0.  0.  0.]\n",
      " [ 0.  0.  0.  0.  0.  0.  0.  0.  0.  0.  0.  0.  1.  0.  0.  0.]\n",
      " [ 0.  0.  0.  0.  0.  0.  0.  0.  0.  0.  0.  0.  0.  1.  0.  0.]\n",
      " [ 0.  0.  0.  0.  0.  0.  0.  0.  0.  0.  0.  0.  0.  0.  1.  0.]\n",
      " [ 0.  0.  0.  0.  0.  0.  0.  0.  0.  0.  0.  0.  0.  0.  0.  1.]]\n",
      "uh1:\n",
      " [ 1.          0.5        -0.5        -1.          0.5         0.30768856\n",
      " -0.17788877 -0.5        -0.5        -0.17788877  0.30768856  0.5\n",
      " -1.         -0.5         0.5         1.        ]\n"
     ]
    }
   ],
   "execution_count": 18
  },
  {
   "cell_type": "markdown",
   "metadata": {},
   "source": "在 $A$ 和 $F$ 中，只对区域内部自由度对应的子矩阵和子向量进行求解，这样会改变原始离散系统的规模（这种方式的矩阵 A 不一定是对称的）"
  },
  {
   "cell_type": "code",
   "metadata": {
    "ExecuteTime": {
     "end_time": "2024-06-26T02:18:00.524277Z",
     "start_time": "2024-06-26T02:18:00.509816Z"
    }
   },
   "source": [
    "# Apply Dirichlet boundary conditions\n",
    "uh2 = space.function()\n",
    "isBdDof = space.is_boundary_dof()\n",
    "ipoints = space.interpolation_points() \n",
    "uh2[isBdDof] = pde.dirichlet(ipoints[isBdDof])\n",
    "\n",
    "F2 = F0\n",
    "F2[isBdDof] = uh2[isBdDof]\n",
    "\n",
    "bdIdx = np.zeros(NDof, dtype=np.int_)\n",
    "bdIdx[isBdDof] = 1\n",
    "Tbd = spdiags(bdIdx, 0, NDof, NDof) \n",
    "T = spdiags(1-bdIdx, 0, NDof, NDof)\n",
    "A2 = T@A0 + Tbd\n",
    "A2_is_symmetric1 = np.allclose(A2.toarray(), A2.toarray().T, atol=1e-6)\n",
    "print(\"A2_is_symmetric1:\", A2_is_symmetric1, \"\\n\", A2.toarray().round(4))\n",
    "\n",
    "uh2[:] = spsolve(A2, F2)\n",
    "print(\"uh2:\\n\", uh2)"
   ],
   "outputs": [
    {
     "name": "stdout",
     "output_type": "stream",
     "text": [
      "A2_is_symmetric1: False \n",
      " [[ 1.  0.  0.  0.  0.  0.  0.  0.  0.  0.  0.  0.  0.  0.  0.  0.]\n",
      " [ 0.  1.  0.  0.  0.  0.  0.  0.  0.  0.  0.  0.  0.  0.  0.  0.]\n",
      " [ 0.  0.  1.  0.  0.  0.  0.  0.  0.  0.  0.  0.  0.  0.  0.  0.]\n",
      " [ 0.  0.  0.  1.  0.  0.  0.  0.  0.  0.  0.  0.  0.  0.  0.  0.]\n",
      " [ 0.  0.  0.  0.  1.  0.  0.  0.  0.  0.  0.  0.  0.  0.  0.  0.]\n",
      " [ 0. -1.  0.  0. -1.  4. -1.  0.  0. -1.  0.  0.  0.  0.  0.  0.]\n",
      " [ 0.  0. -1.  0.  0. -1.  4. -1.  0.  0. -1.  0.  0.  0.  0.  0.]\n",
      " [ 0.  0.  0.  0.  0.  0.  0.  1.  0.  0.  0.  0.  0.  0.  0.  0.]\n",
      " [ 0.  0.  0.  0.  0.  0.  0.  0.  1.  0.  0.  0.  0.  0.  0.  0.]\n",
      " [ 0.  0.  0.  0.  0. -1.  0.  0. -1.  4. -1.  0.  0. -1.  0.  0.]\n",
      " [ 0.  0.  0.  0.  0.  0. -1.  0.  0. -1.  4. -1.  0.  0. -1.  0.]\n",
      " [ 0.  0.  0.  0.  0.  0.  0.  0.  0.  0.  0.  1.  0.  0.  0.  0.]\n",
      " [ 0.  0.  0.  0.  0.  0.  0.  0.  0.  0.  0.  0.  1.  0.  0.  0.]\n",
      " [ 0.  0.  0.  0.  0.  0.  0.  0.  0.  0.  0.  0.  0.  1.  0.  0.]\n",
      " [ 0.  0.  0.  0.  0.  0.  0.  0.  0.  0.  0.  0.  0.  0.  1.  0.]\n",
      " [ 0.  0.  0.  0.  0.  0.  0.  0.  0.  0.  0.  0.  0.  0.  0.  1.]]\n",
      "uh2:\n",
      " [ 1.          0.5        -0.5        -1.          0.5         0.30768856\n",
      " -0.17788877 -0.5        -0.5        -0.17788877  0.30768856  0.5\n",
      " -1.         -0.5         0.5         1.        ]\n"
     ]
    }
   ],
   "execution_count": 19
  },
  {
   "cell_type": "code",
   "metadata": {
    "ExecuteTime": {
     "end_time": "2024-06-26T02:18:00.535133Z",
     "start_time": "2024-06-26T02:18:00.525134Z"
    }
   },
   "source": [
    "error = np.sum(np.abs(uh1 - uh2))\n",
    "print(\"error:\", error)"
   ],
   "outputs": [
    {
     "name": "stdout",
     "output_type": "stream",
     "text": [
      "error: 1.3877787807814457e-16\n"
     ]
    }
   ],
   "execution_count": 20
  }
 ],
 "metadata": {
  "kernelspec": {
   "display_name": "Python 3",
   "language": "python",
   "name": "python3"
  },
  "language_info": {
   "codemirror_mode": {
    "name": "ipython",
    "version": 3
   },
   "file_extension": ".py",
   "mimetype": "text/x-python",
   "name": "python",
   "nbconvert_exporter": "python",
   "pygments_lexer": "ipython3",
   "version": "3.10.12"
  }
 },
 "nbformat": 4,
 "nbformat_minor": 2
}
