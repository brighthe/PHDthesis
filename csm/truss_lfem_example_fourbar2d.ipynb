{
 "cells": [
  {
   "cell_type": "code",
   "execution_count": 1,
   "id": "10613517-e169-43e3-aac3-9fd8aade93dc",
   "metadata": {},
   "outputs": [],
   "source": [
    "from fealpy.pde.truss_model import Truss2DFourBar\n",
    "\n",
    "from fealpy.functionspace import LagrangeFESpace\n",
    "\n",
    "from fealpy.fem import BilinearForm\n",
    "from fealpy.fem import TrussStructureIntegrator\n",
    "from fealpy.fem import DirichletBC\n",
    "\n",
    "from scipy.sparse.linalg import spsolve\n",
    "\n",
    "import matplotlib.pyplot as plt\n",
    "import numpy as np"
   ]
  },
  {
   "cell_type": "code",
   "execution_count": 2,
   "id": "21236247-de9a-4ccb-af94-46cbcd73740c",
   "metadata": {},
   "outputs": [
    {
     "name": "stdout",
     "output_type": "stream",
     "text": [
      "node:\n",
      " [[  0.   0.]\n",
      " [400.   0.]\n",
      " [400. 300.]\n",
      " [  0. 300.]]\n",
      "NN: 4\n",
      "cell:\n",
      " [[0 1]\n",
      " [2 1]\n",
      " [0 2]\n",
      " [3 2]]\n",
      "NC: 4\n"
     ]
    },
    {
     "data": {
      "image/png": "[encoded data removed]",
      "text/plain": [
       "<Figure size 640x480 with 1 Axes>"
      ]
     },
     "metadata": {},
     "output_type": "display_data"
    }
   ],
   "source": [
    "pde = Truss2DFourBar()\n",
    "\n",
    "mesh = pde.init_mesh()\n",
    "node = mesh.entity('node')\n",
    "NN = mesh.number_of_nodes()\n",
    "cell = mesh.entity('cell') \n",
    "NC = mesh.number_of_cells()\n",
    "print(\"node:\\n\", node)\n",
    "print(\"NN:\", NN)\n",
    "print(\"cell:\\n\", cell)\n",
    "print(\"NC:\", NC)\n",
    "\n",
    "fig = plt.figure()\n",
    "axes = fig.gca()\n",
    "mesh.add_plot(axes)\n",
    "mesh.find_node(axes, showindex=True, fontsize=12, fontcolor='r')\n",
    "mesh.find_cell(axes, showindex=True, fontsize=12, fontcolor='g')\n",
    "plt.show()"
   ]
  },
  {
   "cell_type": "code",
   "execution_count": 3,
   "id": "91c308e3-86d1-486e-b962-9e1375354cb3",
   "metadata": {},
   "outputs": [
    {
     "name": "stdout",
     "output_type": "stream",
     "text": [
      "GD: 2\n",
      "gdof: 4\n",
      "ldof: 2\n"
     ]
    }
   ],
   "source": [
    "GD = mesh.geo_dimension()\n",
    "print(\"GD:\", GD)\n",
    "\n",
    "space = LagrangeFESpace(mesh, p=1, spacetype='C', doforder='vdims')\n",
    "\n",
    "gdof = space.number_of_global_dofs() \n",
    "ldof = space.number_of_local_dofs()\n",
    "print(\"gdof:\", gdof)\n",
    "print(\"ldof:\", ldof)"
   ]
  },
  {
   "cell_type": "code",
   "execution_count": 4,
   "id": "b099f4f9-0598-4577-9214-0eca4a85b6df",
   "metadata": {},
   "outputs": [
    {
     "name": "stdout",
     "output_type": "stream",
     "text": [
      "space: (<fealpy.functionspace.lagrange_fe_space.LagrangeFESpace object at 0x7f4a62e8c580>, <fealpy.functionspace.lagrange_fe_space.LagrangeFESpace object at 0x7f4a62e8c580>)\n",
      "uh:(gdof, GD)\n",
      " [[0. 0.]\n",
      " [0. 0.]\n",
      " [0. 0.]\n",
      " [0. 0.]]\n",
      "(4, 2)\n",
      "bform: <fealpy.fem.bilinear_form.BilinearForm object at 0x7f4a62e8ecb0>\n"
     ]
    }
   ],
   "source": [
    "vspace = GD*(space, ) # 把标量空间张成向量空间\n",
    "print(\"space:\", vspace)\n",
    "\n",
    "uh = vspace[0].function(dim=GD) \n",
    "print(\"uh:(gdof, GD)\\n\", uh)\n",
    "print(uh.shape)\n",
    "\n",
    "bform = BilinearForm(vspace)\n",
    "print(\"bform:\", bform)"
   ]
  },
  {
   "cell_type": "code",
   "execution_count": 5,
   "id": "abcd7e42-d642-47f0-8964-6a828c0b7687",
   "metadata": {
    "scrolled": true
   },
   "outputs": [
    {
     "name": "stdout",
     "output_type": "stream",
     "text": [
      "全局坐标系下的四个单元刚度矩阵 k1,k2,k3,k4 如下\n",
      ": [[[ 73750.              0.         -73750.              0.        ]\n",
      "  [     0.              0.              0.              0.        ]\n",
      "  [-73750.              0.          73750.              0.        ]\n",
      "  [     0.              0.              0.              0.        ]]\n",
      "\n",
      " [[     0.              0.              0.              0.        ]\n",
      "  [     0.          98333.33333333      0.         -98333.33333333]\n",
      "  [     0.              0.              0.              0.        ]\n",
      "  [     0.         -98333.33333333      0.          98333.33333333]]\n",
      "\n",
      " [[ 37760.          28320.         -37760.         -28320.        ]\n",
      "  [ 28320.          21240.         -28320.         -21240.        ]\n",
      "  [-37760.         -28320.          37760.          28320.        ]\n",
      "  [-28320.         -21240.          28320.          21240.        ]]\n",
      "\n",
      " [[ 73750.              0.         -73750.              0.        ]\n",
      "  [     0.              0.              0.              0.        ]\n",
      "  [-73750.              0.          73750.              0.        ]\n",
      "  [     0.              0.              0.              0.        ]]]\n"
     ]
    }
   ],
   "source": [
    "E0 = pde.E # 杨氏模量\n",
    "A0 = pde.A # 横截面积\n",
    "# print(\"全局坐标系下的单元刚度矩阵 k, (NC, GD*ldof, GD*ldof):\", \n",
    "#       TrussStructureIntegrator(E0, A0).assembly_cell_matrix(vspace).shape)\n",
    "print(\"全局坐标系下的四个单元刚度矩阵 k1,k2,k3,k4 如下\\n:\", \n",
    "      TrussStructureIntegrator(E0, A0).assembly_cell_matrix(vspace))"
   ]
  },
  {
   "cell_type": "code",
   "execution_count": 6,
   "id": "fb14e72a-0f80-486f-8613-86a8bb1e3729",
   "metadata": {},
   "outputs": [
    {
     "name": "stdout",
     "output_type": "stream",
     "text": [
      "全局刚度矩阵 KK(GD*gdof, GD*gdof):\n",
      " [[111510.          28320.         -73750.              0.\n",
      "  -37760.         -28320.              0.              0.        ]\n",
      " [ 28320.          21240.              0.              0.\n",
      "  -28320.         -21240.              0.              0.        ]\n",
      " [-73750.              0.          73750.              0.\n",
      "       0.              0.              0.              0.        ]\n",
      " [     0.              0.              0.          98333.33333333\n",
      "       0.         -98333.33333333      0.              0.        ]\n",
      " [-37760.         -28320.              0.              0.\n",
      "  111510.          28320.         -73750.              0.        ]\n",
      " [-28320.         -21240.              0.         -98333.33333333\n",
      "   28320.         119573.33333333      0.              0.        ]\n",
      " [     0.              0.              0.              0.\n",
      "  -73750.              0.          73750.              0.        ]\n",
      " [     0.              0.              0.              0.\n",
      "       0.              0.              0.              0.        ]]\n"
     ]
    }
   ],
   "source": [
    "bform.add_domain_integrator(TrussStructureIntegrator(E0, A0))\n",
    "K = bform.assembly() # 基函数由标量函数组合而成的向量函数空间\n",
    "\n",
    "print(\"全局刚度矩阵 KK(GD*gdof, GD*gdof):\\n\", K.toarray())"
   ]
  },
  {
   "cell_type": "code",
   "execution_count": 7,
   "id": "6fe01901-1eb9-4792-8a16-5515a137e6ec",
   "metadata": {},
   "outputs": [
    {
     "name": "stdout",
     "output_type": "stream",
     "text": [
      "F:(gdof GD)\n",
      " [[0. 0.]\n",
      " [0. 0.]\n",
      " [0. 0.]\n",
      " [0. 0.]]\n",
      "idx: [1 2]\n",
      "f: [[ 20000.      0.]\n",
      " [     0. -25000.]]\n",
      "F[idx]\n",
      ": [[0. 0.]\n",
      " [0. 0.]]\n",
      "F[idx]\n",
      ": [[ 20000.      0.]\n",
      " [     0. -25000.]]\n",
      "F\n",
      ": [[     0.      0.]\n",
      " [ 20000.      0.]\n",
      " [     0. -25000.]\n",
      " [     0.      0.]]\n"
     ]
    }
   ],
   "source": [
    " # 加载力的条件 \n",
    "F = np.zeros((uh.shape[0], GD), dtype=np.float64)\n",
    "print(\"F:(gdof GD)\\n\", F)\n",
    "# 施加节点力的索引和大小 \n",
    "idx, f = mesh.meshdata['force_bc'] \n",
    "print(\"idx:\", idx)\n",
    "print(\"f:\", f)\n",
    "print(\"F[idx]\\n:\", F[idx])\n",
    "F[idx] = f \n",
    "print(\"F[idx]\\n:\", F[idx])\n",
    "print(\"F\\n:\", F)"
   ]
  },
  {
   "cell_type": "code",
   "execution_count": 8,
   "id": "d5c17390-ed78-4412-a7ff-5ffade97fe7c",
   "metadata": {},
   "outputs": [
    {
     "name": "stdout",
     "output_type": "stream",
     "text": [
      "idx: [0 1 3]\n",
      "disp: [0. 0.]\n",
      "A:(GD*gdof, GD*gdof)\n",
      " [[1.0000000e+00 0.0000000e+00 0.0000000e+00 0.0000000e+00 0.0000000e+00\n",
      "  0.0000000e+00 0.0000000e+00 0.0000000e+00]\n",
      " [0.0000000e+00 1.0000000e+00 0.0000000e+00 0.0000000e+00 0.0000000e+00\n",
      "  0.0000000e+00 0.0000000e+00 0.0000000e+00]\n",
      " [0.0000000e+00 0.0000000e+00 7.3750000e+04 0.0000000e+00 0.0000000e+00\n",
      "  0.0000000e+00 0.0000000e+00 0.0000000e+00]\n",
      " [0.0000000e+00 0.0000000e+00 0.0000000e+00 1.0000000e+00 0.0000000e+00\n",
      "  0.0000000e+00 0.0000000e+00 0.0000000e+00]\n",
      " [0.0000000e+00 0.0000000e+00 0.0000000e+00 0.0000000e+00 1.1151000e+05\n",
      "  2.8320000e+04 0.0000000e+00 0.0000000e+00]\n",
      " [0.0000000e+00 0.0000000e+00 0.0000000e+00 0.0000000e+00 2.8320000e+04\n",
      "  1.1957333e+05 0.0000000e+00 0.0000000e+00]\n",
      " [0.0000000e+00 0.0000000e+00 0.0000000e+00 0.0000000e+00 0.0000000e+00\n",
      "  0.0000000e+00 1.0000000e+00 0.0000000e+00]\n",
      " [0.0000000e+00 0.0000000e+00 0.0000000e+00 0.0000000e+00 0.0000000e+00\n",
      "  0.0000000e+00 0.0000000e+00 1.0000000e+00]]\n",
      "F:(GD*gdof)\n",
      " [     0.      0.  20000.      0.      0. -25000.      0.      0.]\n"
     ]
    }
   ],
   "source": [
    "idx, disp = mesh.meshdata['disp_bc']\n",
    "print(\"idx:\", idx)\n",
    "print(\"disp:\", disp)\n",
    "bc = DirichletBC(vspace, disp, threshold=idx)\n",
    "\n",
    "# 按分量处理自由度索引\n",
    "idx1 = np.array([0, 1, 3, 6, 7])\n",
    "A, F = bc.apply(K, F.flat, uh, dflag=idx1)\n",
    "print(\"A:(GD*gdof, GD*gdof)\\n\", np.round(A.toarray(), decimals=2))\n",
    "print(\"F:(GD*gdof)\\n\", F)"
   ]
  },
  {
   "cell_type": "code",
   "execution_count": 9,
   "id": "5c6371b3-01fa-42b6-b02a-bdf5ac106650",
   "metadata": {
    "tags": []
   },
   "outputs": [
    {
     "name": "stdout",
     "output_type": "stream",
     "text": [
      "uh: [[ 0.          0.        ]\n",
      " [ 0.27118644  0.        ]\n",
      " [ 0.05649718 -0.22245763]\n",
      " [ 0.          0.        ]]\n"
     ]
    }
   ],
   "source": [
    "uh.flat[:] = spsolve(A, F)\n",
    "print(\"uh:\", uh)"
   ]
  },
  {
   "cell_type": "code",
   "execution_count": null,
   "id": "01b1926b-3890-49dd-9e1e-99fa1a27d313",
   "metadata": {},
   "outputs": [],
   "source": []
  }
 ],
 "metadata": {
  "kernelspec": {
   "display_name": "Python 3 (ipykernel)",
   "language": "python",
   "name": "python3"
  },
  "language_info": {
   "codemirror_mode": {
    "name": "ipython",
    "version": 3
   },
   "file_extension": ".py",
   "mimetype": "text/x-python",
   "name": "python",
   "nbconvert_exporter": "python",
   "pygments_lexer": "ipython3",
   "version": "3.10.12"
  }
 },
 "nbformat": 4,
 "nbformat_minor": 5
}
