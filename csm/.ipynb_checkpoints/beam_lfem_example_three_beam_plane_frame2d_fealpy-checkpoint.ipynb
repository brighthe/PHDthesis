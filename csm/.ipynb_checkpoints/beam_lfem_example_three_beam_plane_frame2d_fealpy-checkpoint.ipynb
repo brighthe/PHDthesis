{
 "cells": [
  {
   "cell_type": "code",
   "execution_count": 1,
   "id": "10613517-e169-43e3-aac3-9fd8aade93dc",
   "metadata": {},
   "outputs": [],
   "source": [
    "from fealpy.pde.beam_model import PlanarBeam\n",
    "\n",
    "from fealpy.functionspace import LagrangeFESpace\n",
    "\n",
    "from fealpy.fem import BilinearForm\n",
    "from fealpy.fem import EulerBernoulliBeamStructureIntegrator\n",
    "from fealpy.fem import DirichletBC\n",
    "\n",
    "from scipy.sparse.linalg import spsolve\n",
    "\n",
    "import matplotlib.pyplot as plt\n",
    "import numpy as np"
   ]
  },
  {
   "cell_type": "code",
   "execution_count": 2,
   "id": "21236247-de9a-4ccb-af94-46cbcd73740c",
   "metadata": {},
   "outputs": [
    {
     "name": "stdout",
     "output_type": "stream",
     "text": [
      "node:\n",
      " [[0.   0.96]\n",
      " [1.44 0.96]\n",
      " [0.   0.  ]\n",
      " [1.44 0.  ]]\n",
      "NN: 4\n",
      "cell:\n",
      " [[0 1]\n",
      " [2 0]\n",
      " [3 1]]\n",
      "NC: 3\n"
     ]
    },
    {
     "data": {
      "image/png": "[encoded data removed]",
      "text/plain": [
       "<Figure size 640x480 with 1 Axes>"
      ]
     },
     "metadata": {},
     "output_type": "display_data"
    }
   ],
   "source": [
    "pde = PlanarBeam()\n",
    "\n",
    "mesh = pde.init_mesh()\n",
    "node = mesh.entity('node')\n",
    "NN = mesh.number_of_nodes()\n",
    "cell = mesh.entity('cell')\n",
    "NC = mesh.number_of_cells()\n",
    "print(\"node:\\n\", node)\n",
    "print(\"NN:\", NN)\n",
    "print(\"cell:\\n\", cell)\n",
    "print(\"NC:\", NC)\n",
    "\n",
    "fig = plt.figure()\n",
    "axes = fig.gca()\n",
    "mesh.add_plot(axes)\n",
    "mesh.find_node(axes, showindex=True, fontsize=15, fontcolor='r')\n",
    "mesh.find_cell(axes, showindex=True, fontsize=15, fontcolor='g')\n",
    "plt.show()"
   ]
  },
  {
   "cell_type": "code",
   "execution_count": 3,
   "id": "91c308e3-86d1-486e-b962-9e1375354cb3",
   "metadata": {},
   "outputs": [
    {
     "name": "stdout",
     "output_type": "stream",
     "text": [
      "GD: 2\n",
      "space: Lagrange finite element space on linear mesh!\n",
      "gdof: 4\n",
      "ldof: 2\n",
      "uh:(gdof, 3)\n",
      " [[0. 0. 0.]\n",
      " [0. 0. 0.]\n",
      " [0. 0. 0.]\n",
      " [0. 0. 0.]]\n",
      "(4, 3)\n"
     ]
    }
   ],
   "source": [
    "GD = mesh.geo_dimension()\n",
    "print(\"GD:\", GD)\n",
    "\n",
    "space = LagrangeFESpace(mesh, p=1, spacetype='C', doforder='vdims')\n",
    "print(\"space:\", space)\n",
    "\n",
    "gdof = space.number_of_global_dofs()\n",
    "ldof = space.number_of_local_dofs()\n",
    "print(\"gdof:\", gdof)\n",
    "print(\"ldof:\", ldof)\n",
    "\n",
    "uh = space.function(dim=3) \n",
    "print(\"uh:(gdof, 3)\\n\", uh)\n",
    "print(uh.shape)"
   ]
  },
  {
   "cell_type": "code",
   "execution_count": 4,
   "id": "b099f4f9-0598-4577-9214-0eca4a85b6df",
   "metadata": {},
   "outputs": [
    {
     "name": "stdout",
     "output_type": "stream",
     "text": [
      "space: (<fealpy.functionspace.lagrange_fe_space.LagrangeFESpace object at 0x7fe3062f2320>, <fealpy.functionspace.lagrange_fe_space.LagrangeFESpace object at 0x7fe3062f2320>, <fealpy.functionspace.lagrange_fe_space.LagrangeFESpace object at 0x7fe3062f2320>)\n",
      "bform: <fealpy.fem.bilinear_form.BilinearForm object at 0x7fe396e2b670>\n"
     ]
    }
   ],
   "source": [
    "vspace = 3*(space, ) # 把标量空间张成向量空间\n",
    "print(\"space:\", vspace)\n",
    "\n",
    "bform = BilinearForm(vspace)\n",
    "print(\"bform:\", bform)"
   ]
  },
  {
   "cell_type": "code",
   "execution_count": 5,
   "id": "abcd7e42-d642-47f0-8964-6a828c0b7687",
   "metadata": {
    "scrolled": true
   },
   "outputs": [
    {
     "name": "stdout",
     "output_type": "stream",
     "text": [
      "全局坐标系下的三个单元刚度矩阵 k1,k2,k3 如下:\n",
      " [[[ 1.41666667e+08  0.00000000e+00  0.00000000e+00 -1.41666667e+08\n",
      "    0.00000000e+00  0.00000000e+00]\n",
      "  [ 0.00000000e+00  7.83661265e+05  5.64236111e+05  0.00000000e+00\n",
      "   -7.83661265e+05  5.64236111e+05]\n",
      "  [ 0.00000000e+00  5.64236111e+05  5.41666667e+05  0.00000000e+00\n",
      "   -5.64236111e+05  2.70833333e+05]\n",
      "  [-1.41666667e+08  0.00000000e+00  0.00000000e+00  1.41666667e+08\n",
      "    0.00000000e+00  0.00000000e+00]\n",
      "  [ 0.00000000e+00 -7.83661265e+05 -5.64236111e+05  0.00000000e+00\n",
      "    7.83661265e+05 -5.64236111e+05]\n",
      "  [ 0.00000000e+00  5.64236111e+05  2.70833333e+05  0.00000000e+00\n",
      "   -5.64236111e+05  5.41666667e+05]]\n",
      "\n",
      " [[ 2.64485677e+06  0.00000000e+00 -1.26953125e+06 -2.64485677e+06\n",
      "    0.00000000e+00 -1.26953125e+06]\n",
      "  [ 0.00000000e+00  2.12500000e+08  0.00000000e+00  0.00000000e+00\n",
      "   -2.12500000e+08  0.00000000e+00]\n",
      "  [-1.26953125e+06  0.00000000e+00  8.12500000e+05  1.26953125e+06\n",
      "    0.00000000e+00  4.06250000e+05]\n",
      "  [-2.64485677e+06  0.00000000e+00  1.26953125e+06  2.64485677e+06\n",
      "    0.00000000e+00  1.26953125e+06]\n",
      "  [ 0.00000000e+00 -2.12500000e+08  0.00000000e+00  0.00000000e+00\n",
      "    2.12500000e+08  0.00000000e+00]\n",
      "  [-1.26953125e+06  0.00000000e+00  4.06250000e+05  1.26953125e+06\n",
      "    0.00000000e+00  8.12500000e+05]]\n",
      "\n",
      " [[ 2.64485677e+06  0.00000000e+00 -1.26953125e+06 -2.64485677e+06\n",
      "    0.00000000e+00 -1.26953125e+06]\n",
      "  [ 0.00000000e+00  2.12500000e+08  0.00000000e+00  0.00000000e+00\n",
      "   -2.12500000e+08  0.00000000e+00]\n",
      "  [-1.26953125e+06  0.00000000e+00  8.12500000e+05  1.26953125e+06\n",
      "    0.00000000e+00  4.06250000e+05]\n",
      "  [-2.64485677e+06  0.00000000e+00  1.26953125e+06  2.64485677e+06\n",
      "    0.00000000e+00  1.26953125e+06]\n",
      "  [ 0.00000000e+00 -2.12500000e+08  0.00000000e+00  0.00000000e+00\n",
      "    2.12500000e+08  0.00000000e+00]\n",
      "  [-1.26953125e+06  0.00000000e+00  4.06250000e+05  1.26953125e+06\n",
      "    0.00000000e+00  8.12500000e+05]]]\n"
     ]
    }
   ],
   "source": [
    "E0 = pde.E # 杨氏模量\n",
    "I0 = pde.I # 惯性矩\n",
    "A0 = pde.A # 截面面积\n",
    "\n",
    "print(\"全局坐标系下的三个单元刚度矩阵 k1,k2,k3 如下:\\n\", \n",
    "      EulerBernoulliBeamStructureIntegrator(E0, I0, A0).assembly_cell_matrix(vspace))"
   ]
  },
  {
   "cell_type": "code",
   "execution_count": 6,
   "id": "fb14e72a-0f80-486f-8613-86a8bb1e3729",
   "metadata": {},
   "outputs": [
    {
     "name": "stdout",
     "output_type": "stream",
     "text": [
      "全局刚度矩阵 KK(12, 12):\n",
      " [[ 1.44311523e+08  0.00000000e+00  1.26953125e+06 -1.41666667e+08\n",
      "   0.00000000e+00  0.00000000e+00 -2.64485677e+06  0.00000000e+00\n",
      "   1.26953125e+06  0.00000000e+00  0.00000000e+00  0.00000000e+00]\n",
      " [ 0.00000000e+00  2.13283661e+08  5.64236111e+05  0.00000000e+00\n",
      "  -7.83661265e+05  5.64236111e+05  0.00000000e+00 -2.12500000e+08\n",
      "   0.00000000e+00  0.00000000e+00  0.00000000e+00  0.00000000e+00]\n",
      " [ 1.26953125e+06  5.64236111e+05  1.35416667e+06  0.00000000e+00\n",
      "  -5.64236111e+05  2.70833333e+05 -1.26953125e+06  0.00000000e+00\n",
      "   4.06250000e+05  0.00000000e+00  0.00000000e+00  0.00000000e+00]\n",
      " [-1.41666667e+08  0.00000000e+00  0.00000000e+00  1.44311523e+08\n",
      "   0.00000000e+00  1.26953125e+06  0.00000000e+00  0.00000000e+00\n",
      "   0.00000000e+00 -2.64485677e+06  0.00000000e+00  1.26953125e+06]\n",
      " [ 0.00000000e+00 -7.83661265e+05 -5.64236111e+05  0.00000000e+00\n",
      "   2.13283661e+08 -5.64236111e+05  0.00000000e+00  0.00000000e+00\n",
      "   0.00000000e+00  0.00000000e+00 -2.12500000e+08  0.00000000e+00]\n",
      " [ 0.00000000e+00  5.64236111e+05  2.70833333e+05  1.26953125e+06\n",
      "  -5.64236111e+05  1.35416667e+06  0.00000000e+00  0.00000000e+00\n",
      "   0.00000000e+00 -1.26953125e+06  0.00000000e+00  4.06250000e+05]\n",
      " [-2.64485677e+06  0.00000000e+00 -1.26953125e+06  0.00000000e+00\n",
      "   0.00000000e+00  0.00000000e+00  2.64485677e+06  0.00000000e+00\n",
      "  -1.26953125e+06  0.00000000e+00  0.00000000e+00  0.00000000e+00]\n",
      " [ 0.00000000e+00 -2.12500000e+08  0.00000000e+00  0.00000000e+00\n",
      "   0.00000000e+00  0.00000000e+00  0.00000000e+00  2.12500000e+08\n",
      "   0.00000000e+00  0.00000000e+00  0.00000000e+00  0.00000000e+00]\n",
      " [ 1.26953125e+06  0.00000000e+00  4.06250000e+05  0.00000000e+00\n",
      "   0.00000000e+00  0.00000000e+00 -1.26953125e+06  0.00000000e+00\n",
      "   8.12500000e+05  0.00000000e+00  0.00000000e+00  0.00000000e+00]\n",
      " [ 0.00000000e+00  0.00000000e+00  0.00000000e+00 -2.64485677e+06\n",
      "   0.00000000e+00 -1.26953125e+06  0.00000000e+00  0.00000000e+00\n",
      "   0.00000000e+00  2.64485677e+06  0.00000000e+00 -1.26953125e+06]\n",
      " [ 0.00000000e+00  0.00000000e+00  0.00000000e+00  0.00000000e+00\n",
      "  -2.12500000e+08  0.00000000e+00  0.00000000e+00  0.00000000e+00\n",
      "   0.00000000e+00  0.00000000e+00  2.12500000e+08  0.00000000e+00]\n",
      " [ 0.00000000e+00  0.00000000e+00  0.00000000e+00  1.26953125e+06\n",
      "   0.00000000e+00  4.06250000e+05  0.00000000e+00  0.00000000e+00\n",
      "   0.00000000e+00 -1.26953125e+06  0.00000000e+00  8.12500000e+05]]\n"
     ]
    }
   ],
   "source": [
    "bform.add_domain_integrator(EulerBernoulliBeamStructureIntegrator(E0, I0, A0))\n",
    "K = bform.assembly() # 基函数由标量函数组合而成的向量函数空间\n",
    "\n",
    "print(\"全局刚度矩阵 KK(12, 12):\\n\", K.toarray())"
   ]
  },
  {
   "cell_type": "code",
   "execution_count": 7,
   "id": "6fe01901-1eb9-4792-8a16-5515a137e6ec",
   "metadata": {},
   "outputs": [
    {
     "name": "stdout",
     "output_type": "stream",
     "text": [
      "F:(gdof 3)\n",
      " [[0. 0. 0.]\n",
      " [0. 0. 0.]\n",
      " [0. 0. 0.]\n",
      " [0. 0. 0.]]\n",
      "idx: [0 1]\n",
      "f: [[ 3000. -3000.  -720.]\n",
      " [    0. -3000.   720.]]\n",
      "F[idx]\n",
      ": [[0. 0. 0.]\n",
      " [0. 0. 0.]]\n",
      "F[idx]\n",
      ": [[ 3000. -3000.  -720.]\n",
      " [    0. -3000.   720.]]\n",
      "F\n",
      ": [[ 3000. -3000.  -720.]\n",
      " [    0. -3000.   720.]\n",
      " [    0.     0.     0.]\n",
      " [    0.     0.     0.]]\n"
     ]
    }
   ],
   "source": [
    " # 加载力的条件 \n",
    "F = np.zeros((uh.shape[0], 3), dtype=np.float64)\n",
    "print(\"F:(gdof 3)\\n\", F)\n",
    "\n",
    "idx, f = mesh.meshdata['force_bc'] \n",
    "print(\"idx:\", idx)\n",
    "print(\"f:\", f)\n",
    "print(\"F[idx]\\n:\", F[idx])\n",
    "F[idx] = f # (10, 3)\n",
    "print(\"F[idx]\\n:\", F[idx])\n",
    "print(\"F\\n:\", F)"
   ]
  },
  {
   "cell_type": "code",
   "execution_count": 8,
   "id": "d5c17390-ed78-4412-a7ff-5ffade97fe7c",
   "metadata": {},
   "outputs": [
    {
     "name": "stdout",
     "output_type": "stream",
     "text": [
      "idx: [2 3]\n",
      "disp: [0. 0. 0.]\n"
     ]
    }
   ],
   "source": [
    "idx, disp = mesh.meshdata['disp_bc']\n",
    "print(\"idx:\", idx)\n",
    "print(\"disp:\", disp)\n",
    "bc = DirichletBC(vspace, disp, threshold=idx)"
   ]
  },
  {
   "cell_type": "code",
   "execution_count": 9,
   "id": "e38a3509-be49-400f-9afd-2ba68e1e7921",
   "metadata": {
    "scrolled": true
   },
   "outputs": [
    {
     "name": "stdout",
     "output_type": "stream",
     "text": [
      "idx1: [ 6  7  8  9 10 11]\n",
      "A:(GD*gdof, GD*gdof)\n",
      " [[ 1.44311523e+08  0.00000000e+00  1.26953125e+06 -1.41666667e+08\n",
      "   0.00000000e+00  0.00000000e+00  0.00000000e+00  0.00000000e+00\n",
      "   0.00000000e+00  0.00000000e+00  0.00000000e+00  0.00000000e+00]\n",
      " [ 0.00000000e+00  2.13283661e+08  5.64236110e+05  0.00000000e+00\n",
      "  -7.83661270e+05  5.64236110e+05  0.00000000e+00  0.00000000e+00\n",
      "   0.00000000e+00  0.00000000e+00  0.00000000e+00  0.00000000e+00]\n",
      " [ 1.26953125e+06  5.64236110e+05  1.35416667e+06  0.00000000e+00\n",
      "  -5.64236110e+05  2.70833330e+05  0.00000000e+00  0.00000000e+00\n",
      "   0.00000000e+00  0.00000000e+00  0.00000000e+00  0.00000000e+00]\n",
      " [-1.41666667e+08  0.00000000e+00  0.00000000e+00  1.44311523e+08\n",
      "   0.00000000e+00  1.26953125e+06  0.00000000e+00  0.00000000e+00\n",
      "   0.00000000e+00  0.00000000e+00  0.00000000e+00  0.00000000e+00]\n",
      " [ 0.00000000e+00 -7.83661270e+05 -5.64236110e+05  0.00000000e+00\n",
      "   2.13283661e+08 -5.64236110e+05  0.00000000e+00  0.00000000e+00\n",
      "   0.00000000e+00  0.00000000e+00  0.00000000e+00  0.00000000e+00]\n",
      " [ 0.00000000e+00  5.64236110e+05  2.70833330e+05  1.26953125e+06\n",
      "  -5.64236110e+05  1.35416667e+06  0.00000000e+00  0.00000000e+00\n",
      "   0.00000000e+00  0.00000000e+00  0.00000000e+00  0.00000000e+00]\n",
      " [ 0.00000000e+00  0.00000000e+00  0.00000000e+00  0.00000000e+00\n",
      "   0.00000000e+00  0.00000000e+00  1.00000000e+00  0.00000000e+00\n",
      "   0.00000000e+00  0.00000000e+00  0.00000000e+00  0.00000000e+00]\n",
      " [ 0.00000000e+00  0.00000000e+00  0.00000000e+00  0.00000000e+00\n",
      "   0.00000000e+00  0.00000000e+00  0.00000000e+00  1.00000000e+00\n",
      "   0.00000000e+00  0.00000000e+00  0.00000000e+00  0.00000000e+00]\n",
      " [ 0.00000000e+00  0.00000000e+00  0.00000000e+00  0.00000000e+00\n",
      "   0.00000000e+00  0.00000000e+00  0.00000000e+00  0.00000000e+00\n",
      "   1.00000000e+00  0.00000000e+00  0.00000000e+00  0.00000000e+00]\n",
      " [ 0.00000000e+00  0.00000000e+00  0.00000000e+00  0.00000000e+00\n",
      "   0.00000000e+00  0.00000000e+00  0.00000000e+00  0.00000000e+00\n",
      "   0.00000000e+00  1.00000000e+00  0.00000000e+00  0.00000000e+00]\n",
      " [ 0.00000000e+00  0.00000000e+00  0.00000000e+00  0.00000000e+00\n",
      "   0.00000000e+00  0.00000000e+00  0.00000000e+00  0.00000000e+00\n",
      "   0.00000000e+00  0.00000000e+00  1.00000000e+00  0.00000000e+00]\n",
      " [ 0.00000000e+00  0.00000000e+00  0.00000000e+00  0.00000000e+00\n",
      "   0.00000000e+00  0.00000000e+00  0.00000000e+00  0.00000000e+00\n",
      "   0.00000000e+00  0.00000000e+00  0.00000000e+00  1.00000000e+00]]\n",
      "F:(GD*gdof)\n",
      " [ 3000. -3000.  -720.     0. -3000.   720.     0.     0.     0.     0.\n",
      "     0.     0.]\n"
     ]
    }
   ],
   "source": [
    "# 按分量处理自由度索引\n",
    "idx1 = np.array([6, 7, 8, 9, 10, 11])\n",
    "print(\"idx1:\", idx1)\n",
    "A, F = bc.apply(K, F.flat, uh, dflag=idx1)\n",
    "print(\"A:(GD*gdof, GD*gdof)\\n\", np.round(A.toarray(), decimals=2))\n",
    "print(\"F:(GD*gdof)\\n\", F)"
   ]
  },
  {
   "cell_type": "code",
   "execution_count": 10,
   "id": "1f29d858-c262-4f98-a9aa-829cffb686a4",
   "metadata": {},
   "outputs": [
    {
     "name": "stdout",
     "output_type": "stream",
     "text": [
      "uh: [[ 9.17664838e-04 -1.03584864e-05 -1.38736970e-03]\n",
      " [ 9.01188011e-04 -1.78768077e-05 -3.88301468e-05]\n",
      " [ 0.00000000e+00  0.00000000e+00  0.00000000e+00]\n",
      " [ 0.00000000e+00  0.00000000e+00  0.00000000e+00]]\n"
     ]
    }
   ],
   "source": [
    "uh.flat[:] = spsolve(A, F)\n",
    "print(\"uh:\", uh)"
   ]
  },
  {
   "cell_type": "code",
   "execution_count": null,
   "id": "bfc6c5d7-21bd-461c-a259-7cbb239735fe",
   "metadata": {},
   "outputs": [],
   "source": []
  }
 ],
 "metadata": {
  "kernelspec": {
   "display_name": "Python 3 (ipykernel)",
   "language": "python",
   "name": "python3"
  },
  "language_info": {
   "codemirror_mode": {
    "name": "ipython",
    "version": 3
   },
   "file_extension": ".py",
   "mimetype": "text/x-python",
   "name": "python",
   "nbconvert_exporter": "python",
   "pygments_lexer": "ipython3",
   "version": "3.10.12"
  }
 },
 "nbformat": 4,
 "nbformat_minor": 5
}
