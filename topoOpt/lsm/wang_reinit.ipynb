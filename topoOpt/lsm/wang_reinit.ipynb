{
 "cells": [
  {
   "cell_type": "markdown",
   "metadata": {},
   "source": [
    "# 水平集函数的重置化"
   ]
  },
  {
   "cell_type": "markdown",
   "metadata": {},
   "source": [
    "## (1) 重置化方程\n",
    "    \n",
    "1. 时间步长取为：\n",
    "\n",
    "$$\\Delta{t} = \\frac{1}{2}\\frac{\\Delta_{\\min}}{\\max~\\big|(\\mathrm{sign}(\\Phi_n)_{ij}\\big|},\\quad\\Delta_{\\min} = \\min(\\Delta{x},\\Delta{y})$$\n",
    "    \n",
    "2. 数值计算时可以通过磨光：\n",
    "$$\\mathrm{sign}(\\Phi)=\\frac{\\Phi}{\\sqrt{\\Phi^2+|\\nabla\\Phi|^2(\\Delta x)^2}}$$\n",
    "其中 $\\nabla\\Phi$ 采用中心差分近似，$D_{ij}^{cx}$ 和 $D_{ij}^{cy}$ 分别是两个维度中的中心差分算子。\n",
    "\n",
    "3. 计算格式：\n",
    "$$\\Phi_{ij}^{n+1} = \\Phi_{ij}^n - \\Delta{t}\\bigg(\\max\\big(\\mathrm{sign}(\\Phi_{ij}^n),0\\big)\\nabla^{+} + \\min\\big(\\mathrm{sign}(\\Phi_{ij}^n),0\\big)\\nabla^{-} - \\mathrm{sign}(\\Phi_{ij}^n)\\bigg)$$\n",
    "其中\n",
    "$$\\nabla^{+} = \\big[\\max(D_{ij}^{-x},0)^2 + \\min(D_{ij}^{+x},0)^2 + \\max(D_{ij}^{-y},0)^2 + \\min(D_{ij}^{+y},0)^2\\big]^{1/2}$$\n",
    "$$\\nabla^{-} = \\big[\\max(D_{ij}^{+x},0)^2 + \\min(D_{ij}^{-x},0)^2 + \\max(D_{ij}^{+y},0)^2 + \\min(D_{ij}^{-y},0)^2\\big]^{1/2}$$\n",
    "这里，$\\Delta{t}$ 是时间步长，$D_{ij}^{\\pm{x}}$ 和 $D_{ij}^{\\pm{y}}$ 分别是 $\\bm{x}\\in\\mathbb{R}^2$ 的两个维度中的向前和向后差分算子。"
   ]
  },
  {
   "cell_type": "code",
   "execution_count": 1,
   "metadata": {},
   "outputs": [],
   "source": [
    "import numpy as np\n",
    "\n",
    "def upwind_diff(phi, d, direction):\n",
    "    \"\"\"\n",
    "    使用迎风格式计算向前和向后有限差分.\n",
    "\n",
    "    Parameters:\n",
    "    - phi ( ndarray - (nely+2, nlex+2) ): 水平集函数在水平集网格点上的值;\n",
    "    - d (float): x 或 y 方向上相邻网格的间距, 取决于 'direction' 参数;\n",
    "    - direction (str): 'x': 沿 x 方向计算差分, 'y': 表示沿 y 方向计算差分.\n",
    "\n",
    "    Returns:\n",
    "    - back_diff ( ndarray - (nely+2, nlex+2) ): 向后差分矩阵: ( phi(i, j) - phi(i-1, j) ) / dx\n",
    "                            或 ( phi(i, j) - phi(i, j-1) ) / dx, 取决于 'direction'.\n",
    "    - fawd_diff ( ndarray - (nely+2, nlex+2) ): 向前差分矩阵: ( phi(i+1, j) - phi(i, j) ) / dx\n",
    "                            或 ( phi(i, j+1) - phi(i, j) ) / dx, 取决于 'direction'.\n",
    "    \"\"\"\n",
    "    # 根据指定的方向计算后向和前向差分\n",
    "    if direction == 'x':\n",
    "        x_minus_1 = np.roll(phi, 1, axis=1) # x 方向向右位移\n",
    "        x_plus_1 = np.roll(phi, -1, axis=1) # x 方向向左位移\n",
    "        dx = d\n",
    "        back_diff = (phi - x_minus_1) / dx\n",
    "        fawd_diff = (x_plus_1 - phi) / dx\n",
    "    elif direction == 'y':\n",
    "        y_minus_1 = np.roll(phi, 1, axis=0) # y 方向向下位移\n",
    "        y_plus_1 = np.roll(phi, -1, axis=0) # y 方向向上位移\n",
    "        dy = d\n",
    "        back_diff = (phi - y_minus_1) / dy\n",
    "        fawd_diff = (y_plus_1 - phi) / dy\n",
    "    else:\n",
    "        raise ValueError(\"direction 必须是 'x' 或 'y'\")\n",
    "    \n",
    "    return back_diff, fawd_diff\n",
    "\n",
    "def reinit(phi0, dx, dy, loop_num):\n",
    "    \"\"\" \n",
    "    将水平集函数重初始化为符号距离函数.\n",
    "\n",
    "    Parameters:\n",
    "    - phi0 ( ndarray - (nely+2, nelx+2) ): 重置化前的水平集界面;\n",
    "    - dx: 有限元单元的宽度;\n",
    "    - dy: 有限元单元的高度;\n",
    "    - loop_num: 重初始化的时间步数.\n",
    "\n",
    "    Returns:\n",
    "    - sign_dist_phi (ndarray - (nely+2, nelx+2) ): 重置化后的水平集界面.\n",
    "    \"\"\"\n",
    "    for _ in range(loop_num + 1):\n",
    "        # 水平集函数沿 x 和 y 方向的向前和向后差分算子\n",
    "        dx_L, dx_R = upwind_diff(phi0, dx, 'x')\n",
    "        dy_L, dy_R = upwind_diff(phi0, dy, 'y')\n",
    "        \n",
    "        # 水平集函数沿 x 和 y 方向的中心差分算子\n",
    "        dx_C = (dx_L + dx_R) / 2\n",
    "        dy_C = (dy_L + dy_R) / 2\n",
    "        \n",
    "        # sign(Phi) 的数值计算\n",
    "        signPhi = phi0 / (np.sqrt(phi0**2 + (dx_C**2 + dy_C**2) * dx**2) + np.finfo(float).eps)\n",
    "\n",
    "        # CFL 时间步长\n",
    "        detT = 0.5 * min(dx, dy) / np.max(np.abs(signPhi))\n",
    "        \n",
    "        grad_plus = np.sqrt(np.maximum(dx_L, 0)**2 + np.minimum(dx_R, 0)**2 +\n",
    "                            np.maximum(dy_L, 0)**2 + np.minimum(dy_R, 0)**2)\n",
    "        grad_minus = np.sqrt(np.minimum(dx_L, 0)**2 + np.maximum(dx_R, 0)**2 +\n",
    "                            np.minimum(dy_L, 0)**2 + np.maximum(dy_R, 0)**2)\n",
    "\n",
    "        phi0 = phi0 - detT * \\\n",
    "            (np.maximum(signPhi, 0)*grad_plus + np.minimum(signPhi, 0)*grad_minus - signPhi)\n",
    "\n",
    "    sign_dist_phi = phi0\n",
    "\n",
    "    return sign_dist_phi"
   ]
  },
  {
   "cell_type": "markdown",
   "metadata": {},
   "source": [
    "## (2) reinit 函数检验\n",
    "符号距离函数\n",
    "$$\\phi(x,y) = \\sqrt{(x-0.5)^2+(y-0.75)^2} - 0.15$$\n",
    "其$$(x,y)\\in[0, 1]\\times[0,1]$。\n",
    "$$|\\nabla\\phi| = \\sqrt{\\bigg(\\frac{x-0.5}{\\sqrt{(x-0.5)^2+(y-0.5)^2}}\\bigg)^2 + \\bigg(\\frac{y-0.75}{\\sqrt{(x-0.5)^2+(y-0.5)^2)}}\\bigg)^2} = 1$$\n",
    "非符号距离函数\n",
    "$$\\psi(x,y) = (x-0.5)^2+(y-0.75)^2 - 0.0115$$\n",
    "其中$(x,y)\\in[0, 1]\\times[0,1]$。\n",
    "$$|\\nabla\\psi| = \\sqrt{(2(x-0.5)^2 + (2(y-0.75))^2} = 2\\sqrt{(x-0.5)^2+(y-0.75)^2} = 2\\sqrt{0.0115} \\neq 1$$"
   ]
  },
  {
   "cell_type": "code",
   "execution_count": 2,
   "metadata": {},
   "outputs": [],
   "source": [
    "from fealpy.mesh import UniformMesh2d\n",
    "\n",
    "# 测试参数\n",
    "nelx, nely = 20, 20\n",
    "domain = [0, 1, 0, 1]\n",
    "dw = domain[1] - domain[0]\n",
    "dh = domain[3] - domain[2]\n",
    "ew = (domain[1]-domain[0]) / nelx \n",
    "eh = (domain[3]-domain[2]) / nely \n",
    "\n",
    "from fealpy.mesh import UniformMesh2d\n",
    "ls_domain = [-ew/2, dw+ew/2, -eh/2, dh+eh/2]\n",
    "ls_mesh = UniformMesh2d(extent=(0, nelx+1, 0, nely+1), \n",
    "                    h=(ew, eh), origin=(ls_domain[0], ls_domain[2]))\n",
    "ls_NC = ls_mesh.number_of_cells()\n",
    "ls_NN = ls_mesh.number_of_nodes()\n",
    "ls_node = ls_mesh.entity('node')"
   ]
  },
  {
   "cell_type": "code",
   "execution_count": 3,
   "metadata": {},
   "outputs": [
    {
     "name": "stdout",
     "output_type": "stream",
     "text": [
      "error_nsd_sd: 0.11148583103198023\n"
     ]
    }
   ],
   "source": [
    "import numpy as np\n",
    "from fealpy.decorator import cartesian\n",
    "\n",
    "# 非符号距离函数的水平集函数\n",
    "@cartesian\n",
    "def phi_nsd(p):\n",
    "    x = p[..., 0]\n",
    "    y = p[..., 1]\n",
    "    val = (x - 0.5)**2 + (y - 0.75)**2 - 0.0115\n",
    "\n",
    "    return val\n",
    "\n",
    "# 符号距离函数的水平集函数\n",
    "@cartesian\n",
    "def phi_sd(p):\n",
    "    x = p[..., 0]\n",
    "    y = p[..., 1]\n",
    "    val = np.sqrt((x - 0.5)**2 + (y - 0.75)**2) - 0.15\n",
    "\n",
    "    return val\n",
    "\n",
    "lsf_nsd = phi_nsd(ls_node).reshape(nelx+2, nely+2).T\n",
    "lsf_sd = phi_sd(ls_node).reshape(nelx+2, nely+2).T\n",
    "\n",
    "error_nsd_sd = np.max(np.abs(lsf_nsd - lsf_sd))\n",
    "print(\"error_nsd_sd:\", error_nsd_sd)"
   ]
  },
  {
   "cell_type": "code",
   "execution_count": 4,
   "metadata": {},
   "outputs": [
    {
     "name": "stdout",
     "output_type": "stream",
     "text": [
      "The 0-th computation:\n",
      "$|| sd - nsd_reinit ||_{\\infty}$\n",
      "[0.41682691 0.         0.         0.         0.         0.\n",
      " 0.         0.         0.         0.        ]\n",
      "-------\n",
      "The 1-th computation:\n",
      "$|| sd - nsd_reinit ||_{\\infty}$\n",
      "[0.41682691 0.39862034 0.         0.         0.         0.\n",
      " 0.         0.         0.         0.        ]\n",
      "-------\n",
      "The 2-th computation:\n",
      "$|| sd - nsd_reinit ||_{\\infty}$\n",
      "[0.41682691 0.39862034 0.39389376 0.         0.         0.\n",
      " 0.         0.         0.         0.        ]\n",
      "-------\n",
      "The 3-th computation:\n",
      "$|| sd - nsd_reinit ||_{\\infty}$\n",
      "[0.41682691 0.39862034 0.39389376 0.39087649 0.         0.\n",
      " 0.         0.         0.         0.        ]\n",
      "-------\n",
      "The 4-th computation:\n",
      "$|| sd - nsd_reinit ||_{\\infty}$\n",
      "[0.41682691 0.39862034 0.39389376 0.39087649 0.38880186 0.\n",
      " 0.         0.         0.         0.        ]\n",
      "-------\n",
      "The 5-th computation:\n",
      "$|| sd - nsd_reinit ||_{\\infty}$\n",
      "[0.41682691 0.39862034 0.39389376 0.39087649 0.38880186 0.38729978\n",
      " 0.         0.         0.         0.        ]\n",
      "-------\n",
      "The 6-th computation:\n",
      "$|| sd - nsd_reinit ||_{\\infty}$\n",
      "[0.41682691 0.39862034 0.39389376 0.39087649 0.38880186 0.38729978\n",
      " 0.38616235 0.         0.         0.        ]\n",
      "-------\n",
      "The 7-th computation:\n",
      "$|| sd - nsd_reinit ||_{\\infty}$\n",
      "[0.41682691 0.39862034 0.39389376 0.39087649 0.38880186 0.38729978\n",
      " 0.38616235 0.38526954 0.         0.        ]\n",
      "-------\n",
      "The 8-th computation:\n",
      "$|| sd - nsd_reinit ||_{\\infty}$\n",
      "[0.41682691 0.39862034 0.39389376 0.39087649 0.38880186 0.38729978\n",
      " 0.38616235 0.38526954 0.38454841 0.        ]\n",
      "-------\n",
      "The 9-th computation:\n",
      "$|| sd - nsd_reinit ||_{\\infty}$\n",
      "[0.41682691 0.39862034 0.39389376 0.39087649 0.38880186 0.38729978\n",
      " 0.38616235 0.38526954 0.38454841 0.38395238]\n",
      "-------\n"
     ]
    }
   ],
   "source": [
    "maxit = 10\n",
    "errorType = ['$|| sd - nsd_reinit ||_{\\\\infty}$']\n",
    "errorMatrix = np.zeros((1, maxit), dtype=np.float64)\n",
    "for i in range(maxit):\n",
    "    print(\"The {}-th computation:\".format(i))\n",
    "    lsf_nsd_reinit = reinit(phi0=lsf_nsd, dx=ew, dy=eh, loop_num=(10*(i+1)))\n",
    "    errorMatrix[0, i] = np.max(np.abs(lsf_sd - lsf_nsd_reinit))\n",
    "\n",
    "    for i, errType in enumerate(errorType):\n",
    "        print(errType)\n",
    "        print(errorMatrix[i])\n",
    "        print('-------')"
   ]
  },
  {
   "cell_type": "code",
   "execution_count": 5,
   "metadata": {},
   "outputs": [
    {
     "data": {
      "text/plain": [
       "'visualization/wang_reinit.vts'"
      ]
     },
     "execution_count": 5,
     "metadata": {},
     "output_type": "execute_result"
    }
   ],
   "source": [
    "import os\n",
    "visualization_dir = 'visualization/'\n",
    "os.makedirs(visualization_dir, exist_ok=True)\n",
    "fname = os.path.join(visualization_dir, 'wang_reinit.vts')\n",
    "ls_mesh.to_vtk(filename=fname, \n",
    "               nodedata={'lsf_nsd': lsf_nsd.flatten('F'),\n",
    "                         'lsf_nsd_reinit': lsf_nsd_reinit.flatten('F'),\n",
    "                         'lsf_sd': lsf_sd.flatten('F')})"
   ]
  }
 ],
 "metadata": {
  "kernelspec": {
   "display_name": "Python 3",
   "language": "python",
   "name": "python3"
  },
  "language_info": {
   "codemirror_mode": {
    "name": "ipython",
    "version": 3
   },
   "file_extension": ".py",
   "mimetype": "text/x-python",
   "name": "python",
   "nbconvert_exporter": "python",
   "pygments_lexer": "ipython3",
   "version": "3.10.12"
  }
 },
 "nbformat": 4,
 "nbformat_minor": 2
}
