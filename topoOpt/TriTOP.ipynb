{
 "cells": [
  {
   "cell_type": "code",
   "execution_count": 1,
   "metadata": {},
   "outputs": [],
   "source": [
    "import numpy as np\n",
    "\n",
    "nx = 8\n",
    "ny = 5\n",
    "maxedge = 0.2;\n",
    "minedge = 0.025;\n",
    "# 矩形区域的边界\n",
    "BDY = np.array([[-.5 * nx, -.5 * ny], [.5 * nx, .5 * ny]]) / 100\n",
    "x = np.linspace(BDY[0,0], BDY[1,0], nx+1)\n",
    "y = np.linspace(BDY[0,1], BDY[1,1], ny+1)\n",
    "xn, yn = np.meshgrid(x, y)\n",
    "# 网格节点的密度值\n",
    "dN = np.sin(xn/BDY[1,0]*6*np.pi) * np.cos(yn/BDY[1,0]*6*np.pi) + 0.5"
   ]
  },
  {
   "cell_type": "code",
   "execution_count": 2,
   "metadata": {},
   "outputs": [],
   "source": [
    "def redis_points(C, d1, d2):\n",
    "    \"\"\"\n",
    "    重新分布材质边界上的点\n",
    "    \"\"\"\n",
    "    C = C.T\n",
    "    C1 = C.copy()\n",
    "    CL = np.sqrt(np.sum(np.diff(C1, axis=0)**2, axis=1))\n",
    "    \n",
    "    # 调整距离过小的点\n",
    "    i = 0\n",
    "    while i < len(C1) - 1:\n",
    "        if CL[i] < d1:\n",
    "            C1[i] = [0, 0]\n",
    "            C1[i + 1] = 0.5 * (C[i] + C[i + 1])\n",
    "        i += 1\n",
    "\n",
    "    # 删除所有被设置为[0,0]的点\n",
    "    C1 = C1[~np.all(C1 == [0, 0], axis=1)]\n",
    "\n",
    "    # 重新计算点间距离\n",
    "    CL2 = np.sqrt(np.sum(np.diff(C1, axis=0)**2, axis=1))\n",
    "    Cmid = []\n",
    "    \n",
    "    # 添加需要的点以满足距离要求\n",
    "    for i in range(len(C1) - 1):\n",
    "        if CL2[i] > d2:\n",
    "            Cmid.append(0.5 * (C1[i] + C1[i + 1]))\n",
    "\n",
    "    # 如果有中间点，将其添加到点集中\n",
    "    if Cmid:\n",
    "        Cmid = np.array(Cmid)\n",
    "        C1 = np.vstack([C1, Cmid])\n",
    "        C1 = np.unique(C1, axis=0)\n",
    "\n",
    "    return C1"
   ]
  },
  {
   "cell_type": "code",
   "execution_count": 3,
   "metadata": {},
   "outputs": [],
   "source": [
    "def generate_mesh(xn, yn, dN, maxedge, minedge, BDY, maxiter):\n",
    "    # 根据您的代码，修改每一行偶数行的x坐标\n",
    "    x = xn.copy()\n",
    "    x[1::2, :] += 0.005 \n",
    "\n",
    "    # 创建初始图案 pi 数组，节点在设计区域中均匀分布\n",
    "    pi = np.column_stack((x.flatten('F'), yn.flatten('F')))\n",
    "\n",
    "    # 使用matplotlib生成等高线，找出零水平集\n",
    "    import matplotlib.pyplot as plt\n",
    "    fig, ax = plt.subplots()\n",
    "    CS = ax.contour(xn, yn, dN, levels=[0])\n",
    "\n",
    "    # 每个等高线段之前会有一列包含两个值，\n",
    "    # 第一个值是等高线的级别（本例中是 0，因为是零水平集），第二个值是该等高线段包含的顶点个数\n",
    "    # 初始化C数组\n",
    "    C = np.empty((2, 0))\n",
    "\n",
    "    # 提取每个路径的坐标点\n",
    "    for path in CS.collections[0].get_paths():\n",
    "        vertices = path.vertices.T  # 转置后的形状是(2, N)，其中N是顶点数量\n",
    "        segment_info = np.array([[0], [vertices.shape[1]]])  # 调整为形状(2, 1)\n",
    "        vertices_with_info = np.hstack((segment_info, vertices))  # 前置信息\n",
    "        C = np.hstack((C, vertices_with_info))  # 横向堆叠\n",
    "\n",
    "    # 确保C的形状符合预期\n",
    "    if C.shape[1] > 40:\n",
    "        # 如果顶点数量大于40，可以进行插值或选择前40个点\n",
    "        C = C[:, :40]\n",
    "\n",
    "    C1 = np.empty((0, 2))  # 初始化空数组，用于存储调整后的点\n",
    "    \n",
    "    dump = np.where((C[0,:] == 0) & (C[1,:] >= 2))[0]\n",
    "    \n",
    "    # 调用 RedisPoints 函数\n",
    "    for i in range(len(dump) - 1):\n",
    "        segment = C[:, dump[i] + 1:dump[i + 1]]  # 根据 dump 索引切片 C\n",
    "        adjusted_points = redis_points(segment, 0.004, 0.01)  # 调整点位置\n",
    "        C1 = np.hstack([C1, adjusted_points.T])\n",
    "\n",
    "    last_segment = C[:, dump[-1]+1]\n",
    "    final_adjusted_points = redis_points(last_segment, 0.004, 0.01)\n",
    "    C = np.hstack([C1, final_adjusted_points.T])\n",
    "    \n",
    "    # 计算顶点节点与其在实心-空心界面上最近点之间的距离 d\n",
    "    d = np.zeros(pi.shape[0])\n",
    "    for i in range(pi.shape[0]):\n",
    "        distances = np.sqrt(np.sum((pi[i] - C.T[:, 1:])**2, axis=1))\n",
    "        d[i] = np.min(distances)\n",
    "\n",
    "    return None"
   ]
  },
  {
   "cell_type": "code",
   "execution_count": 4,
   "metadata": {},
   "outputs": [
    {
     "ename": "ValueError",
     "evalue": "all the input array dimensions except for the concatenation axis must match exactly, but along dimension 0, the array at index 0 has size 0 and the array at index 1 has size 2",
     "output_type": "error",
     "traceback": [
      "\u001b[0;31m---------------------------------------------------------------------------\u001b[0m",
      "\u001b[0;31mValueError\u001b[0m                                Traceback (most recent call last)",
      "Cell \u001b[0;32mIn[4], line 2\u001b[0m\n\u001b[1;32m      1\u001b[0m \u001b[38;5;28;01mfor\u001b[39;00m iterNum \u001b[38;5;129;01min\u001b[39;00m \u001b[38;5;28mrange\u001b[39m(\u001b[38;5;241m1\u001b[39m):\n\u001b[0;32m----> 2\u001b[0m     \u001b[43mgenerate_mesh\u001b[49m\u001b[43m(\u001b[49m\u001b[43mxn\u001b[49m\u001b[38;5;241;43m=\u001b[39;49m\u001b[43mxn\u001b[49m\u001b[43m,\u001b[49m\u001b[43m \u001b[49m\u001b[43myn\u001b[49m\u001b[38;5;241;43m=\u001b[39;49m\u001b[43myn\u001b[49m\u001b[43m,\u001b[49m\u001b[43m \u001b[49m\u001b[43mdN\u001b[49m\u001b[38;5;241;43m=\u001b[39;49m\u001b[43mdN\u001b[49m\u001b[43m,\u001b[49m\u001b[43m \u001b[49m\u001b[43mmaxedge\u001b[49m\u001b[38;5;241;43m=\u001b[39;49m\u001b[43mmaxedge\u001b[49m\u001b[43m,\u001b[49m\u001b[43m \u001b[49m\u001b[43mminedge\u001b[49m\u001b[38;5;241;43m=\u001b[39;49m\u001b[43mminedge\u001b[49m\u001b[43m,\u001b[49m\u001b[43m \u001b[49m\u001b[43mBDY\u001b[49m\u001b[38;5;241;43m=\u001b[39;49m\u001b[43mBDY\u001b[49m\u001b[43m,\u001b[49m\u001b[43m \u001b[49m\u001b[43mmaxiter\u001b[49m\u001b[38;5;241;43m=\u001b[39;49m\u001b[38;5;241;43m80\u001b[39;49m\u001b[43m)\u001b[49m\n",
      "Cell \u001b[0;32mIn[3], line 38\u001b[0m, in \u001b[0;36mgenerate_mesh\u001b[0;34m(xn, yn, dN, maxedge, minedge, BDY, maxiter)\u001b[0m\n\u001b[1;32m     36\u001b[0m     segment \u001b[38;5;241m=\u001b[39m C[:, dump[i] \u001b[38;5;241m+\u001b[39m \u001b[38;5;241m1\u001b[39m:dump[i \u001b[38;5;241m+\u001b[39m \u001b[38;5;241m1\u001b[39m]]  \u001b[38;5;66;03m# 根据 dump 索引切片 C\u001b[39;00m\n\u001b[1;32m     37\u001b[0m     adjusted_points \u001b[38;5;241m=\u001b[39m redis_points(segment, \u001b[38;5;241m0.004\u001b[39m, \u001b[38;5;241m0.01\u001b[39m)  \u001b[38;5;66;03m# 调整点位置\u001b[39;00m\n\u001b[0;32m---> 38\u001b[0m     C1 \u001b[38;5;241m=\u001b[39m \u001b[43mnp\u001b[49m\u001b[38;5;241;43m.\u001b[39;49m\u001b[43mhstack\u001b[49m\u001b[43m(\u001b[49m\u001b[43m[\u001b[49m\u001b[43mC1\u001b[49m\u001b[43m,\u001b[49m\u001b[43m \u001b[49m\u001b[43madjusted_points\u001b[49m\u001b[38;5;241;43m.\u001b[39;49m\u001b[43mT\u001b[49m\u001b[43m]\u001b[49m\u001b[43m)\u001b[49m\n\u001b[1;32m     39\u001b[0m     \u001b[38;5;66;03m# if adjusted_points.size > 0:  # 如果有调整后的点\u001b[39;00m\n\u001b[1;32m     40\u001b[0m     \u001b[38;5;66;03m#     if C1.size == 0:  # 如果 C1 为空，直接赋值\u001b[39;00m\n\u001b[1;32m     41\u001b[0m     \u001b[38;5;66;03m#         C1 = adjusted_points.T\u001b[39;00m\n\u001b[1;32m     42\u001b[0m     \u001b[38;5;66;03m#     else:  # 否则堆叠\u001b[39;00m\n\u001b[1;32m     43\u001b[0m     \u001b[38;5;66;03m#         C1 = np.hstack([C1, adjusted_points.T])\u001b[39;00m\n\u001b[1;32m     44\u001b[0m last_segment \u001b[38;5;241m=\u001b[39m C[:, dump[\u001b[38;5;241m-\u001b[39m\u001b[38;5;241m1\u001b[39m]\u001b[38;5;241m+\u001b[39m\u001b[38;5;241m1\u001b[39m]\n",
      "File \u001b[0;32m~/.local/lib/python3.10/site-packages/numpy/core/shape_base.py:359\u001b[0m, in \u001b[0;36mhstack\u001b[0;34m(tup, dtype, casting)\u001b[0m\n\u001b[1;32m    357\u001b[0m     \u001b[38;5;28;01mreturn\u001b[39;00m _nx\u001b[38;5;241m.\u001b[39mconcatenate(arrs, \u001b[38;5;241m0\u001b[39m, dtype\u001b[38;5;241m=\u001b[39mdtype, casting\u001b[38;5;241m=\u001b[39mcasting)\n\u001b[1;32m    358\u001b[0m \u001b[38;5;28;01melse\u001b[39;00m:\n\u001b[0;32m--> 359\u001b[0m     \u001b[38;5;28;01mreturn\u001b[39;00m \u001b[43m_nx\u001b[49m\u001b[38;5;241;43m.\u001b[39;49m\u001b[43mconcatenate\u001b[49m\u001b[43m(\u001b[49m\u001b[43marrs\u001b[49m\u001b[43m,\u001b[49m\u001b[43m \u001b[49m\u001b[38;5;241;43m1\u001b[39;49m\u001b[43m,\u001b[49m\u001b[43m \u001b[49m\u001b[43mdtype\u001b[49m\u001b[38;5;241;43m=\u001b[39;49m\u001b[43mdtype\u001b[49m\u001b[43m,\u001b[49m\u001b[43m \u001b[49m\u001b[43mcasting\u001b[49m\u001b[38;5;241;43m=\u001b[39;49m\u001b[43mcasting\u001b[49m\u001b[43m)\u001b[49m\n",
      "\u001b[0;31mValueError\u001b[0m: all the input array dimensions except for the concatenation axis must match exactly, but along dimension 0, the array at index 0 has size 0 and the array at index 1 has size 2"
     ]
    },
    {
     "data": {
      "image/png": "[encoded data removed]",
      "text/plain": [
       "<Figure size 640x480 with 1 Axes>"
      ]
     },
     "metadata": {},
     "output_type": "display_data"
    }
   ],
   "source": [
    "for iterNum in range(1):\n",
    "    generate_mesh(xn=xn, yn=yn, dN=dN, maxedge=maxedge, minedge=minedge, BDY=BDY, maxiter=80)"
   ]
  }
 ],
 "metadata": {
  "kernelspec": {
   "display_name": "Python 3",
   "language": "python",
   "name": "python3"
  },
  "language_info": {
   "codemirror_mode": {
    "name": "ipython",
    "version": 3
   },
   "file_extension": ".py",
   "mimetype": "text/x-python",
   "name": "python",
   "nbconvert_exporter": "python",
   "pygments_lexer": "ipython3",
   "version": "3.10.12"
  }
 },
 "nbformat": 4,
 "nbformat_minor": 2
}
