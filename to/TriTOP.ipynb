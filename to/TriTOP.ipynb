{
 "cells": [
  {
   "cell_type": "code",
   "execution_count": 5,
   "metadata": {},
   "outputs": [],
   "source": [
    "import numpy as np\n",
    "\n",
    "nx = 8\n",
    "ny = 5\n",
    "# 矩形区域的边界\n",
    "BDY = np.array([[-.5 * nx, -.5 * ny], [.5 * nx, .5 * ny]]) / 100\n",
    "x = np.linspace(BDY[0,0], BDY[1,0], nx+1)\n",
    "y = np.linspace(BDY[0,1], BDY[1,1], ny+1)\n",
    "xn, yn = np.meshgrid(x, y)\n",
    "# 网格节点的密度值\n",
    "dn = np.sin(xn/BDY[1,0]*6*np.pi) * np.cos(yn/BDY[1,0]*6*np.pi) + 0.5"
   ]
  }
 ],
 "metadata": {
  "kernelspec": {
   "display_name": "Python 3",
   "language": "python",
   "name": "python3"
  },
  "language_info": {
   "codemirror_mode": {
    "name": "ipython",
    "version": 3
   },
   "file_extension": ".py",
   "mimetype": "text/x-python",
   "name": "python",
   "nbconvert_exporter": "python",
   "pygments_lexer": "ipython3",
   "version": "3.10.12"
  }
 },
 "nbformat": 4,
 "nbformat_minor": 2
}
