{
 "cells": [
  {
   "cell_type": "code",
   "execution_count": 1,
   "metadata": {},
   "outputs": [
    {
     "ename": "TypeError",
     "evalue": "__init__() got an unexpected keyword argument 'extent'",
     "output_type": "error",
     "traceback": [
      "\u001b[0;31m---------------------------------------------------------------------------\u001b[0m",
      "\u001b[0;31mTypeError\u001b[0m                                 Traceback (most recent call last)",
      "Cell \u001b[0;32mIn[1], line 6\u001b[0m\n\u001b[1;32m      4\u001b[0m hx \u001b[38;5;241m=\u001b[39m (domain[\u001b[38;5;241m1\u001b[39m] \u001b[38;5;241m-\u001b[39m domain[\u001b[38;5;241m0\u001b[39m]) \u001b[38;5;241m/\u001b[39m nelx\n\u001b[1;32m      5\u001b[0m hy \u001b[38;5;241m=\u001b[39m (domain[\u001b[38;5;241m3\u001b[39m] \u001b[38;5;241m-\u001b[39m domain[\u001b[38;5;241m2\u001b[39m]) \u001b[38;5;241m/\u001b[39m nely\n\u001b[0;32m----> 6\u001b[0m mesh \u001b[38;5;241m=\u001b[39m \u001b[43mUniformMesh2d\u001b[49m\u001b[43m(\u001b[49m\u001b[43mextent\u001b[49m\u001b[38;5;241;43m=\u001b[39;49m\u001b[43m(\u001b[49m\u001b[38;5;241;43m0\u001b[39;49m\u001b[43m,\u001b[49m\u001b[43m \u001b[49m\u001b[43mnelx\u001b[49m\u001b[43m,\u001b[49m\u001b[43m \u001b[49m\u001b[38;5;241;43m0\u001b[39;49m\u001b[43m,\u001b[49m\u001b[43m \u001b[49m\u001b[43mnely\u001b[49m\u001b[43m)\u001b[49m\u001b[43m,\u001b[49m\u001b[43m \u001b[49m\u001b[43m\\\u001b[49m\n\u001b[1;32m      7\u001b[0m \u001b[43m                    \u001b[49m\u001b[43mh\u001b[49m\u001b[38;5;241;43m=\u001b[39;49m\u001b[43m(\u001b[49m\u001b[43mhx\u001b[49m\u001b[43m,\u001b[49m\u001b[43m \u001b[49m\u001b[43mhy\u001b[49m\u001b[43m)\u001b[49m\u001b[43m,\u001b[49m\u001b[43m \u001b[49m\u001b[43morigin\u001b[49m\u001b[38;5;241;43m=\u001b[39;49m\u001b[43m(\u001b[49m\u001b[43mdomain\u001b[49m\u001b[43m[\u001b[49m\u001b[38;5;241;43m0\u001b[39;49m\u001b[43m]\u001b[49m\u001b[43m,\u001b[49m\u001b[43m \u001b[49m\u001b[43mdomain\u001b[49m\u001b[43m[\u001b[49m\u001b[38;5;241;43m2\u001b[39;49m\u001b[43m]\u001b[49m\u001b[43m)\u001b[49m\u001b[43m)\u001b[49m\n\u001b[1;32m      8\u001b[0m node \u001b[38;5;241m=\u001b[39m mesh\u001b[38;5;241m.\u001b[39mentity(\u001b[38;5;124m'\u001b[39m\u001b[38;5;124mnode\u001b[39m\u001b[38;5;124m'\u001b[39m)\n\u001b[1;32m      9\u001b[0m \u001b[38;5;28mprint\u001b[39m(\u001b[38;5;124m\"\u001b[39m\u001b[38;5;124mnode:\u001b[39m\u001b[38;5;124m\"\u001b[39m, node\u001b[38;5;241m.\u001b[39mshape, \u001b[38;5;124m\"\u001b[39m\u001b[38;5;130;01m\\n\u001b[39;00m\u001b[38;5;124m\"\u001b[39m, node)\n",
      "\u001b[0;31mTypeError\u001b[0m: __init__() got an unexpected keyword argument 'extent'"
     ]
    }
   ],
   "source": [
    "from fealpy.jax.mesh import UniformMesh2d\n",
    "nelx, nely = 6, 4\n",
    "domain = [0, 6, 0, 4]\n",
    "hx = (domain[1] - domain[0]) / nelx\n",
    "hy = (domain[3] - domain[2]) / nely\n",
    "mesh = UniformMesh2d(extent=(0, nelx, 0, nely), \\\n",
    "                    h=(hx, hy), origin=(domain[0], domain[2]))\n",
    "node = mesh.entity('node')\n",
    "print(\"node:\", node.shape, \"\\n\", node)\n",
    "\n",
    "import matplotlib.pyplot as plt\n",
    "fig = plt.figure()\n",
    "axes = fig.gca()\n",
    "mesh.add_plot(axes)\n",
    "mesh.find_node(axes, showindex=True, \n",
    "               color='k', marker='o', markersize=8, fontsize=16, fontcolor='r')\n",
    "plt.show()"
   ]
  },
  {
   "cell_type": "code",
   "execution_count": null,
   "metadata": {},
   "outputs": [],
   "source": [
    "import numpy as np\n",
    "\n",
    "def computeGlobalVolumeConstraint(rho):\n",
    "    g = 3 * rho - 1\n",
    "    return g\n",
    "\n",
    "# rho = mesh.function(etype='node')\n",
    "# print(\"rho:\", rho.shape, \"\\n\", rho)\n",
    "rho = np.zeros((7, 5), dtype=np.float64)\n",
    "\n",
    "rho_values = computeGlobalVolumeConstraint(rho)\n",
    "print(\"rho_values:\", rho_values.shape, \"\\n\", rho_values)\n",
    "\n",
    "rho_grad_values = mesh.gradient(f=computeGlobalVolumeConstraint(rho))\n",
    "print(\"rho_grad_values:\", rho_grad_values)\n",
    "\n",
    "NN = mesh.number_of_nodes()\n",
    "rho_values = np.ones((NN))\n",
    "vf = 0.5"
   ]
  },
  {
   "cell_type": "code",
   "execution_count": null,
   "metadata": {},
   "outputs": [],
   "source": []
  }
 ],
 "metadata": {
  "kernelspec": {
   "display_name": "Python 3",
   "language": "python",
   "name": "python3"
  },
  "language_info": {
   "codemirror_mode": {
    "name": "ipython",
    "version": 3
   },
   "file_extension": ".py",
   "mimetype": "text/x-python",
   "name": "python",
   "nbconvert_exporter": "python",
   "pygments_lexer": "ipython3",
   "version": "3.9.18"
  }
 },
 "nbformat": 4,
 "nbformat_minor": 2
}
