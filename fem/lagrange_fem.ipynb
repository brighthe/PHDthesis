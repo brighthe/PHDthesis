{
 "cells": [
  {
   "cell_type": "code",
   "execution_count": 15,
   "metadata": {},
   "outputs": [
    {
     "data": {
      "image/png": "[encoded data removed]",
      "text/plain": [
       "<Figure size 640x480 with 1 Axes>"
      ]
     },
     "metadata": {},
     "output_type": "display_data"
    }
   ],
   "source": [
    "from fealpy.mesh import TriangleMesh\n",
    "mesh = TriangleMesh.from_one_triangle()\n",
    "\n",
    "import matplotlib.pyplot as plt\n",
    "fig = plt.figure()\n",
    "axes = fig.gca()\n",
    "mesh.add_plot(axes)\n",
    "mesh.find_node(axes, showindex=True, \n",
    "               color='k', marker='o', markersize=8, fontsize=16, fontcolor='r')\n",
    "plt.show()"
   ]
  },
  {
   "cell_type": "code",
   "execution_count": 16,
   "metadata": {},
   "outputs": [
    {
     "name": "stdout",
     "output_type": "stream",
     "text": [
      "ldof: 10\n",
      "GD: 2\n",
      "TD: 2\n"
     ]
    }
   ],
   "source": [
    "p = 3 # 基函数的次数\n",
    "from fealpy.functionspace import LagrangeFESpace\n",
    "space = LagrangeFESpace(mesh, p=p, spacetype='C', doforder='vdims')\n",
    "ldof = space.number_of_local_dofs()\n",
    "print(\"ldof:\", ldof)\n",
    "GD = mesh.geo_dimension()\n",
    "print(\"GD:\", GD)\n",
    "TD = mesh.top_dimension()\n",
    "print(\"TD:\", TD)"
   ]
  },
  {
   "cell_type": "markdown",
   "metadata": {},
   "source": [
    "### 三角形单元上的插值点"
   ]
  },
  {
   "cell_type": "markdown",
   "metadata": {},
   "source": [
    "#### 1.多重指标向量"
   ]
  },
  {
   "cell_type": "code",
   "execution_count": 17,
   "metadata": {},
   "outputs": [
    {
     "name": "stdout",
     "output_type": "stream",
     "text": [
      "multiIndex: (10, 3) \n",
      " [[3 0 0]\n",
      " [2 1 0]\n",
      " [2 0 1]\n",
      " [1 2 0]\n",
      " [1 1 1]\n",
      " [1 0 2]\n",
      " [0 3 0]\n",
      " [0 2 1]\n",
      " [0 1 2]\n",
      " [0 0 3]]\n"
     ]
    }
   ],
   "source": [
    "multiIndex = mesh.multi_index_matrix(p=p, etype=2) # (ldof, LNN)\n",
    "print(\"multiIndex:\", multiIndex.shape, \"\\n\", multiIndex)"
   ]
  },
  {
   "cell_type": "code",
   "execution_count": 18,
   "metadata": {},
   "outputs": [
    {
     "name": "stdout",
     "output_type": "stream",
     "text": [
      "multiIndex: (10, 3) \n",
      " [[3 0 0]\n",
      " [2 1 0]\n",
      " [2 0 1]\n",
      " [1 2 0]\n",
      " [1 1 1]\n",
      " [1 0 2]\n",
      " [0 3 0]\n",
      " [0 2 1]\n",
      " [0 1 2]\n",
      " [0 0 3]]\n"
     ]
    }
   ],
   "source": [
    "import numpy as np\n",
    "ldof = (p+1) * (p+2) // 2\n",
    "idx = np.arange(0, ldof) \n",
    "idx0 = np.floor((-1 + np.sqrt(1 + 8*idx)) / 2)\n",
    "multiIndex = np.zeros((ldof, 3), dtype=np.int_) \n",
    "multiIndex[:, 2] = idx - idx0 * (idx0 + 1) / 2\n",
    "multiIndex[:, 1] = idx0 - multiIndex[:, 2]\n",
    "multiIndex[:, 0] = p - multiIndex[:, 1] - multiIndex[:, 2]\n",
    "print(\"multiIndex:\", multiIndex.shape, \"\\n\", multiIndex)"
   ]
  },
  {
   "cell_type": "code",
   "execution_count": 19,
   "metadata": {},
   "outputs": [
    {
     "name": "stdout",
     "output_type": "stream",
     "text": [
      "bc: (10, 3) \n",
      " [[1.         0.         0.        ]\n",
      " [0.66666667 0.33333333 0.        ]\n",
      " [0.66666667 0.         0.33333333]\n",
      " [0.33333333 0.66666667 0.        ]\n",
      " [0.33333333 0.33333333 0.33333333]\n",
      " [0.33333333 0.         0.66666667]\n",
      " [0.         1.         0.        ]\n",
      " [0.         0.66666667 0.33333333]\n",
      " [0.         0.33333333 0.66666667]\n",
      " [0.         0.         1.        ]]\n",
      "points: (1, 10, 2) \n",
      " [[[0.         0.        ]\n",
      "  [0.33333333 0.        ]\n",
      "  [0.         0.33333333]\n",
      "  [0.66666667 0.        ]\n",
      "  [0.33333333 0.33333333]\n",
      "  [0.         0.66666667]\n",
      "  [1.         0.        ]\n",
      "  [0.66666667 0.33333333]\n",
      "  [0.33333333 0.66666667]\n",
      "  [0.         1.        ]]]\n"
     ]
    },
    {
     "data": {
      "image/png": "[encoded data removed]",
      "text/plain": [
       "<Figure size 640x480 with 1 Axes>"
      ]
     },
     "metadata": {},
     "output_type": "display_data"
    }
   ],
   "source": [
    "bc = multiIndex / p # 插值点的重心坐标 (ldof, LNN)\n",
    "print(\"bc:\", bc.shape, \"\\n\", bc)\n",
    "node = mesh.entity('node') \n",
    "cell = mesh.entity('cell') \n",
    "\n",
    "import numpy as np\n",
    "points = np.einsum('ij, cjk -> cik', \n",
    "                   bc, node[cell]) # 插值点的笛卡尔几何坐标 (1, ldof, GD)\n",
    "print(\"points:\", points.shape, \"\\n\", points)\n",
    "fig = plt.figure()\n",
    "axes = fig.gca()\n",
    "mesh.add_plot(axes)\n",
    "mesh.find_node(axes, node=points[0], showindex=True, \n",
    "               color='k', marker='o', markersize=8, fontsize=16, fontcolor='r')\n",
    "plt.show()"
   ]
  },
  {
   "cell_type": "markdown",
   "metadata": {},
   "source": [
    "### 三角形单元上的积分点"
   ]
  },
  {
   "cell_type": "code",
   "execution_count": 25,
   "metadata": {},
   "outputs": [
    {
     "name": "stdout",
     "output_type": "stream",
     "text": [
      "bcs: (10, 3) \n",
      " [[0.88887189 0.05556405 0.05556405]\n",
      " [0.05556405 0.88887189 0.05556405]\n",
      " [0.05556405 0.05556405 0.88887189]\n",
      " [0.29553371 0.63421075 0.07025554]\n",
      " [0.29553371 0.07025554 0.63421075]\n",
      " [0.07025554 0.29553371 0.63421075]\n",
      " [0.63421075 0.29553371 0.07025554]\n",
      " [0.63421075 0.07025554 0.29553371]\n",
      " [0.07025554 0.63421075 0.29553371]\n",
      " [0.33333333 0.33333333 0.33333333]]\n",
      "points: (1, 10, 2) \n",
      " [[[0.05556405 0.05556405]\n",
      "  [0.88887189 0.05556405]\n",
      "  [0.05556405 0.88887189]\n",
      "  [0.63421075 0.07025554]\n",
      "  [0.07025554 0.63421075]\n",
      "  [0.29553371 0.63421075]\n",
      "  [0.29553371 0.07025554]\n",
      "  [0.07025554 0.29553371]\n",
      "  [0.63421075 0.29553371]\n",
      "  [0.33333333 0.33333333]]]\n"
     ]
    },
    {
     "data": {
      "image/png": "[encoded data removed]",
      "text/plain": [
       "<Figure size 640x480 with 1 Axes>"
      ]
     },
     "metadata": {},
     "output_type": "display_data"
    }
   ],
   "source": [
    "qf = mesh.integrator(4)\n",
    "bcs, ws = qf.get_quadrature_points_and_weights() # 积分点的重心坐标和权重\n",
    "print(\"bcs:\", bcs.shape, \"\\n\", bcs)\n",
    "\n",
    "node = mesh.entity('node') \n",
    "cell = mesh.entity('cell') \n",
    "\n",
    "import numpy as np\n",
    "points = np.einsum('ij, cjk -> cik', \n",
    "                   bcs, node[cell]) # 插值点的笛卡尔几何坐标 (1, ldof, GD)\n",
    "print(\"points:\", points.shape, \"\\n\", points)\n",
    "fig = plt.figure()\n",
    "axes = fig.gca()\n",
    "mesh.add_plot(axes)\n",
    "mesh.find_node(axes, node=points[0], showindex=True, \n",
    "               color='k', marker='o', markersize=8, fontsize=16, fontcolor='r')\n",
    "plt.show()"
   ]
  },
  {
   "cell_type": "markdown",
   "metadata": {},
   "source": [
    "### 三角形单元上基函数在插值点的值"
   ]
  },
  {
   "cell_type": "code",
   "execution_count": 20,
   "metadata": {},
   "outputs": [
    {
     "name": "stdout",
     "output_type": "stream",
     "text": [
      "A: (10, 4, 3) \n",
      " [[[ 1.  1.  1.]\n",
      "  [ 3.  0.  0.]\n",
      "  [ 2. -1. -1.]\n",
      "  [ 1. -2. -2.]]\n",
      "\n",
      " [[ 1.  1.  1.]\n",
      "  [ 2.  1.  0.]\n",
      "  [ 1.  0. -1.]\n",
      "  [ 0. -1. -2.]]\n",
      "\n",
      " [[ 1.  1.  1.]\n",
      "  [ 2.  0.  1.]\n",
      "  [ 1. -1.  0.]\n",
      "  [ 0. -2. -1.]]\n",
      "\n",
      " [[ 1.  1.  1.]\n",
      "  [ 1.  2.  0.]\n",
      "  [ 0.  1. -1.]\n",
      "  [-1.  0. -2.]]\n",
      "\n",
      " [[ 1.  1.  1.]\n",
      "  [ 1.  1.  1.]\n",
      "  [ 0.  0.  0.]\n",
      "  [-1. -1. -1.]]\n",
      "\n",
      " [[ 1.  1.  1.]\n",
      "  [ 1.  0.  2.]\n",
      "  [ 0. -1.  1.]\n",
      "  [-1. -2.  0.]]\n",
      "\n",
      " [[ 1.  1.  1.]\n",
      "  [ 0.  3.  0.]\n",
      "  [-1.  2. -1.]\n",
      "  [-2.  1. -2.]]\n",
      "\n",
      " [[ 1.  1.  1.]\n",
      "  [ 0.  2.  1.]\n",
      "  [-1.  1.  0.]\n",
      "  [-2.  0. -1.]]\n",
      "\n",
      " [[ 1.  1.  1.]\n",
      "  [ 0.  1.  2.]\n",
      "  [-1.  0.  1.]\n",
      "  [-2. -1.  0.]]\n",
      "\n",
      " [[ 1.  1.  1.]\n",
      "  [ 0.  0.  3.]\n",
      "  [-1. -1.  2.]\n",
      "  [-2. -2.  1.]]]\n"
     ]
    }
   ],
   "source": [
    "c = np.arange(1, p+1) \n",
    "P = 1.0 / np.multiply.accumulate(c) \n",
    "t = np.arange(0, p) \n",
    "multiIndex = mesh.multi_index_matrix(p=p, etype=2) # (ldof, LNN)\n",
    "bc = multiIndex / p \n",
    "node = mesh.entity('node') \n",
    "cell = mesh.entity('cell') \n",
    "points = np.einsum('ij, cjk -> cik', bc, node[cell])\n",
    "\n",
    "shape = bc.shape[:-1] + (p+1, TD+1) \n",
    "A = np.ones(shape, dtype=np.float64)\n",
    "A[:, 1:, :] = p * bc[:, np.newaxis, :] - t.reshape(-1, 1) \n",
    "print(\"A:\", A.shape, \"\\n\", A)"
   ]
  },
  {
   "cell_type": "code",
   "execution_count": 21,
   "metadata": {},
   "outputs": [
    {
     "name": "stdout",
     "output_type": "stream",
     "text": [
      "B: (10, 4, 3) \n",
      " [[[ 1.  1.  1.]\n",
      "  [ 3.  0.  0.]\n",
      "  [ 3. -0. -0.]\n",
      "  [ 1.  0.  0.]]\n",
      "\n",
      " [[ 1.  1.  1.]\n",
      "  [ 2.  1.  0.]\n",
      "  [ 1.  0. -0.]\n",
      "  [ 0. -0.  0.]]\n",
      "\n",
      " [[ 1.  1.  1.]\n",
      "  [ 2.  0.  1.]\n",
      "  [ 1. -0.  0.]\n",
      "  [ 0.  0. -0.]]\n",
      "\n",
      " [[ 1.  1.  1.]\n",
      "  [ 1.  2.  0.]\n",
      "  [ 0.  1. -0.]\n",
      "  [-0.  0.  0.]]\n",
      "\n",
      " [[ 1.  1.  1.]\n",
      "  [ 1.  1.  1.]\n",
      "  [ 0.  0.  0.]\n",
      "  [-0. -0. -0.]]\n",
      "\n",
      " [[ 1.  1.  1.]\n",
      "  [ 1.  0.  2.]\n",
      "  [ 0. -0.  1.]\n",
      "  [-0.  0.  0.]]\n",
      "\n",
      " [[ 1.  1.  1.]\n",
      "  [ 0.  3.  0.]\n",
      "  [-0.  3. -0.]\n",
      "  [ 0.  1.  0.]]\n",
      "\n",
      " [[ 1.  1.  1.]\n",
      "  [ 0.  2.  1.]\n",
      "  [-0.  1.  0.]\n",
      "  [ 0.  0. -0.]]\n",
      "\n",
      " [[ 1.  1.  1.]\n",
      "  [ 0.  1.  2.]\n",
      "  [-0.  0.  1.]\n",
      "  [ 0. -0.  0.]]\n",
      "\n",
      " [[ 1.  1.  1.]\n",
      "  [ 0.  0.  3.]\n",
      "  [-0. -0.  3.]\n",
      "  [ 0.  0.  1.]]]\n"
     ]
    }
   ],
   "source": [
    "B = np.cumprod(A, axis=-2)\n",
    "B[:, 1:, :] *= P.reshape(-1, 1)\n",
    "print(\"B:\", B.shape, \"\\n\", B)"
   ]
  },
  {
   "cell_type": "code",
   "execution_count": 22,
   "metadata": {},
   "outputs": [
    {
     "name": "stdout",
     "output_type": "stream",
     "text": [
      "phi: (10, 1, 10) \n",
      " [[[ 1.  0.  0. -0.  0. -0.  0. -0. -0.  0.]]\n",
      "\n",
      " [[ 0.  1.  0.  0.  0. -0. -0.  0. -0.  0.]]\n",
      "\n",
      " [[ 0.  0.  1. -0.  0.  0.  0. -0.  0. -0.]]\n",
      "\n",
      " [[-0.  0.  0.  1.  0. -0.  0.  0. -0.  0.]]\n",
      "\n",
      " [[-0.  0.  0.  0.  1.  0. -0.  0.  0. -0.]]\n",
      "\n",
      " [[-0.  0.  0. -0.  0.  1.  0. -0.  0.  0.]]\n",
      "\n",
      " [[ 0. -0. -0.  0.  0. -0.  1.  0. -0.  0.]]\n",
      "\n",
      " [[ 0. -0. -0.  0.  0.  0.  0.  1.  0. -0.]]\n",
      "\n",
      " [[ 0. -0. -0.  0.  0.  0. -0.  0.  1.  0.]]\n",
      "\n",
      " [[ 0. -0. -0. -0.  0.  0.  0. -0.  0.  1.]]]\n"
     ]
    }
   ],
   "source": [
    "# 计算每个基函数在每个插值点的值\n",
    "idx = np.arange(TD + 1) \n",
    "phi = np.prod(B[:, multiIndex, idx], axis=-1)\n",
    "phi = phi[:, np.newaxis, :] # (ldof, 1m ldof)\n",
    "print(\"phi:\", phi.shape, \"\\n\", phi)"
   ]
  }
 ],
 "metadata": {
  "kernelspec": {
   "display_name": "Python 3",
   "language": "python",
   "name": "python3"
  },
  "language_info": {
   "codemirror_mode": {
    "name": "ipython",
    "version": 3
   },
   "file_extension": ".py",
   "mimetype": "text/x-python",
   "name": "python",
   "nbconvert_exporter": "python",
   "pygments_lexer": "ipython3",
   "version": "3.10.12"
  }
 },
 "nbformat": 4,
 "nbformat_minor": 2
}
