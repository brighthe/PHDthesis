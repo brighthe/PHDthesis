{
 "cells": [
  {
   "cell_type": "markdown",
   "metadata": {},
   "source": [
    "# 参数定义"
   ]
  },
  {
   "cell_type": "markdown",
   "metadata": {},
   "source": [
    "## 材料参数"
   ]
  },
  {
   "cell_type": "code",
   "execution_count": 1,
   "metadata": {},
   "outputs": [
    {
     "data": {
      "text/plain": [
       "{'Emax': 1.0, 'Emin': 0.001, 'nu': 0.3, 'penal': 3.0}"
      ]
     },
     "execution_count": 1,
     "metadata": {},
     "output_type": "execute_result"
    }
   ],
   "source": [
    "material = {'Emax':1., 'Emin':1e-3, 'nu':0.3, 'penal':3.}\n",
    "material"
   ]
  },
  {
   "cell_type": "markdown",
   "metadata": {},
   "source": [
    "## 网格参数"
   ]
  },
  {
   "cell_type": "code",
   "execution_count": 2,
   "metadata": {},
   "outputs": [
    {
     "data": {
      "text/plain": [
       "{'nelx': 60,\n",
       " 'nely': 30,\n",
       " 'elemSize': array([1., 1.]),\n",
       " 'ndof': 3782,\n",
       " 'numElems': 1800}"
      ]
     },
     "execution_count": 2,
     "metadata": {},
     "output_type": "execute_result"
    }
   ],
   "source": [
    "import numpy as np\n",
    "\n",
    "nelx, nely = 60, 30\n",
    "elemSize = np.array([1., 1.])\n",
    "mesh = {'nelx':nelx, 'nely':nely, 'elemSize':elemSize,\\\n",
    "        'ndof':2*(nelx+1)*(nely+1), 'numElems':nelx*nely}\n",
    "mesh"
   ]
  },
  {
   "cell_type": "markdown",
   "metadata": {},
   "source": [
    "## 滤波器参数"
   ]
  },
  {
   "cell_type": "code",
   "execution_count": 3,
   "metadata": {},
   "outputs": [
    {
     "data": {
      "text/plain": [
       "{'type': 1,\n",
       " 'H': array([[1.5, 0.5, 0. , ..., 0. , 0. , 0. ],\n",
       "        [0.5, 1.5, 0.5, ..., 0. , 0. , 0. ],\n",
       "        [0. , 0.5, 1.5, ..., 0. , 0. , 0. ],\n",
       "        ...,\n",
       "        [0. , 0. , 0. , ..., 1.5, 0.5, 0. ],\n",
       "        [0. , 0. , 0. , ..., 0.5, 1.5, 0.5],\n",
       "        [0. , 0. , 0. , ..., 0. , 0.5, 1.5]]),\n",
       " 'Hs': array([2.58578644, 3.17157288, 3.17157288, ..., 3.17157288, 3.17157288,\n",
       "        2.58578644])}"
      ]
     },
     "execution_count": 3,
     "metadata": {},
     "output_type": "execute_result"
    }
   ],
   "source": [
    "from utilfuncs import computeFilter\n",
    "\n",
    "filterRadius = 1.5\n",
    "H, Hs = computeFilter(mesh, filterRadius)\n",
    "ft = {'type':1, 'H':H, 'Hs':Hs}\n",
    "ft"
   ]
  },
  {
   "cell_type": "markdown",
   "metadata": {},
   "source": [
    "## 边界条件参数"
   ]
  },
  {
   "cell_type": "code",
   "execution_count": 4,
   "metadata": {},
   "outputs": [
    {
     "data": {
      "text/plain": [
       "{'force': array([[0.],\n",
       "        [0.],\n",
       "        [0.],\n",
       "        ...,\n",
       "        [0.],\n",
       "        [0.],\n",
       "        [0.]]),\n",
       " 'fixed': array([ 0,  1,  2,  3,  4,  5,  6,  7,  8,  9, 10, 11, 12, 13, 14, 15, 16,\n",
       "        17, 18, 19, 20, 21, 22, 23, 24, 25, 26, 27, 28, 29, 30, 31, 32, 33,\n",
       "        34, 35, 36, 37, 38, 39, 40, 41, 42, 43, 44, 45, 46, 47, 48, 49, 50,\n",
       "        51, 52, 53, 54, 55, 56, 57, 58, 59, 60, 61]),\n",
       " 'free': Array([  62,   63,   64, ..., 3779, 3780, 3781], dtype=int32),\n",
       " 'symXAxis': False,\n",
       " 'symYAxis': False}"
      ]
     },
     "execution_count": 4,
     "metadata": {},
     "output_type": "execute_result"
    }
   ],
   "source": [
    "import jax.numpy as jnp\n",
    "\n",
    "example = 1\n",
    "if(example == 1):\n",
    "    # tip cantilever\n",
    "    force = np.zeros((mesh['ndof'],1))\n",
    "    dofs=np.arange(mesh['ndof'])\n",
    "    fixed = dofs[0:2*(nely+1):1]\n",
    "    free = jnp.setdiff1d(np.arange(mesh['ndof']),fixed)\n",
    "    force[2*(nelx+1)*(nely+1)-2*nely+1, 0 ] = -1\n",
    "    symXAxis = False\n",
    "    symYAxis = False\n",
    "elif(example == 2):\n",
    "    ndof = 2*(nelx+1)*(nely+1)\n",
    "    force = np.zeros((mesh['ndof'],1))\n",
    "    dofs=np.arange(mesh['ndof'])\n",
    "    fixed = dofs[0:2*(nely+1):1]\n",
    "    free = jnp.setdiff1d(np.arange(mesh['ndof']),fixed)\n",
    "    force[2*(nelx+1)*(nely+1)- (nely+1), 0 ] = -1\n",
    "    symXAxis = True\n",
    "    symYAxis = False\n",
    "bc = {'force':force, 'fixed':fixed,'free':free,\\\n",
    "          'symXAxis':symXAxis, 'symYAxis':symYAxis}\n",
    "bc"
   ]
  },
  {
   "cell_type": "markdown",
   "metadata": {},
   "source": [
    "## 约束条件参数"
   ]
  },
  {
   "cell_type": "code",
   "execution_count": 5,
   "metadata": {},
   "outputs": [
    {
     "data": {
      "text/plain": [
       "{'isOn': True, 'vf': 0.5}"
      ]
     },
     "execution_count": 5,
     "metadata": {},
     "output_type": "execute_result"
    }
   ],
   "source": [
    "globalVolumeConstraint = {'isOn':True, 'vf':0.5}\n",
    "globalVolumeConstraint"
   ]
  },
  {
   "cell_type": "markdown",
   "metadata": {},
   "source": [
    "## 优化器参数"
   ]
  },
  {
   "cell_type": "code",
   "execution_count": 6,
   "metadata": {},
   "outputs": [
    {
     "name": "stdout",
     "output_type": "stream",
     "text": [
      "{'maxIters': 200, 'minIters': 100, 'relTol': 0.05}\n"
     ]
    },
    {
     "data": {
      "text/plain": [
       "{'isOn': False, 'beta': 4, 'c0': 0.5}"
      ]
     },
     "execution_count": 6,
     "metadata": {},
     "output_type": "execute_result"
    }
   ],
   "source": [
    "optimizationParams = {'maxIters':200,'minIters':100,'relTol':0.05}\n",
    "print(optimizationParams)\n",
    "projection = {'isOn':False, 'beta':4, 'c0':0.5}\n",
    "projection"
   ]
  },
  {
   "cell_type": "code",
   "execution_count": 7,
   "metadata": {},
   "outputs": [
    {
     "ename": "AttributeError",
     "evalue": "'ComplianceMinimizer' object has no attribute 'consHandle'",
     "output_type": "error",
     "traceback": [
      "\u001b[0;31m---------------------------------------------------------------------------\u001b[0m",
      "\u001b[0;31mAttributeError\u001b[0m                            Traceback (most recent call last)",
      "Cell \u001b[0;32mIn[7], line 3\u001b[0m\n\u001b[1;32m      1\u001b[0m \u001b[38;5;28;01mfrom\u001b[39;00m \u001b[38;5;21;01mcompliance_minimizer\u001b[39;00m \u001b[38;5;28;01mimport\u001b[39;00m ComplianceMinimizer\n\u001b[1;32m      2\u001b[0m Opt \u001b[38;5;241m=\u001b[39m ComplianceMinimizer(mesh, bc, material, globalVolumeConstraint, projection)\n\u001b[0;32m----> 3\u001b[0m \u001b[43mOpt\u001b[49m\u001b[38;5;241;43m.\u001b[39;49m\u001b[43mTO\u001b[49m\u001b[43m(\u001b[49m\u001b[43moptimizationParams\u001b[49m\u001b[43m,\u001b[49m\u001b[43m \u001b[49m\u001b[43mft\u001b[49m\u001b[43m)\u001b[49m\n",
      "File \u001b[0;32m~/FEALPy_Development/hlthesis/to/au/compliance_minimizer.py:28\u001b[0m, in \u001b[0;36mComplianceMinimizer.TO\u001b[0;34m(self, optimizationParams, ft)\u001b[0m\n\u001b[1;32m     26\u001b[0m \u001b[38;5;28;01mdef\u001b[39;00m \u001b[38;5;21mTO\u001b[39m(\u001b[38;5;28mself\u001b[39m, optimizationParams, ft):\n\u001b[1;32m     27\u001b[0m     optimize(\u001b[38;5;28mself\u001b[39m\u001b[38;5;241m.\u001b[39mmesh, optimizationParams, ft, \\\n\u001b[0;32m---> 28\u001b[0m              \u001b[38;5;28mself\u001b[39m\u001b[38;5;241m.\u001b[39mobjectiveHandle, \u001b[38;5;28;43mself\u001b[39;49m\u001b[38;5;241;43m.\u001b[39;49m\u001b[43mconsHandle\u001b[49m, \u001b[38;5;28mself\u001b[39m\u001b[38;5;241m.\u001b[39mnumConstraints)\n",
      "\u001b[0;31mAttributeError\u001b[0m: 'ComplianceMinimizer' object has no attribute 'consHandle'"
     ]
    }
   ],
   "source": [
    "from compliance_minimizer import ComplianceMinimizer\n",
    "Opt = ComplianceMinimizer(mesh, bc, material, globalVolumeConstraint, projection)\n",
    "Opt.TO(optimizationParams, ft)"
   ]
  }
 ],
 "metadata": {
  "kernelspec": {
   "display_name": "jax-fem-env",
   "language": "python",
   "name": "python3"
  },
  "language_info": {
   "codemirror_mode": {
    "name": "ipython",
    "version": 3
   },
   "file_extension": ".py",
   "mimetype": "text/x-python",
   "name": "python",
   "nbconvert_exporter": "python",
   "pygments_lexer": "ipython3",
   "version": "3.9.18"
  }
 },
 "nbformat": 4,
 "nbformat_minor": 2
}
