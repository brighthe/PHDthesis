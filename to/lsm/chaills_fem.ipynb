{
 "cells": [
  {
   "cell_type": "code",
   "execution_count": 5,
   "metadata": {},
   "outputs": [],
   "source": [
    "import numpy as np\n",
    "\n",
    "def material_info(nu, E):\n",
    "    KE = stiff_matrix(nu, E)\n",
    "    return KE\n",
    "\n",
    "def stiff_matrix(nu, E):\n",
    "    \"\"\"\n",
    "    矩形单元的单元刚度矩阵.\n",
    "    \n",
    "    Parameters:\n",
    "    - nu (flaot): Poisson 比.\n",
    "    - E (int): 杨氏模量.\n",
    "\n",
    "    Returns:\n",
    "    - KE ( ndarray - (ldof*GD, ldof*GD) ): 单元刚度矩阵.\n",
    "\n",
    "    Note:\n",
    "    考虑四边形网格单元中的自由度\n",
    "    0,1 - 4,5\n",
    "    2,3 - 6,7\n",
    "    \"\"\"\n",
    "    k_0 = 1/2 - nu/6\n",
    "    k_1 = 1/8 + nu/8\n",
    "    k_2 = nu/6\n",
    "    k_3 = 1/8 - 3*nu/8\n",
    "    k_4 = -1/4 - nu/12\n",
    "    k_5 = -1/8 + 3*nu/8\n",
    "    k_6 = -1/4 + nu/12\n",
    "    k_7 = -1/8 - nu/8\n",
    "    k = np.array([k_0, k_1, k_2, k_3, k_4, k_5, k_6, k_7])\n",
    "\n",
    "    KE = E / (1 - nu**2) * np.array([\n",
    "        [k[0], k[1], k[2], k[3], k[4], k[5], k[6], k[7]],\n",
    "        [k[1], k[0], k[7], k[6], k[5], k[4], k[3], k[2]],\n",
    "        [k[2], k[7], k[0], k[5], k[6], k[3], k[4], k[1]],\n",
    "        [k[3], k[6], k[5], k[0], k[7], k[2], k[1], k[4]],\n",
    "        [k[4], k[5], k[6], k[7], k[0], k[1], k[2], k[3]],\n",
    "        [k[5], k[4], k[3], k[2], k[1], k[0], k[7], k[6]],\n",
    "        [k[6], k[3], k[4], k[1], k[2], k[7], k[0], k[5]],\n",
    "        [k[7], k[2], k[1], k[4], k[3], k[6], k[5], k[0]]\n",
    "    ])\n",
    "\n",
    "    return KE"
   ]
  },
  {
   "cell_type": "code",
   "execution_count": 6,
   "metadata": {},
   "outputs": [],
   "source": [
    "E0 = 1.0\n",
    "nu = 0.3\n",
    "KE = stiff_matrix(nu=nu, E=E0)"
   ]
  },
  {
   "cell_type": "code",
   "execution_count": null,
   "metadata": {},
   "outputs": [],
   "source": []
  }
 ],
 "metadata": {
  "kernelspec": {
   "display_name": "Python 3",
   "language": "python",
   "name": "python3"
  },
  "language_info": {
   "codemirror_mode": {
    "name": "ipython",
    "version": 3
   },
   "file_extension": ".py",
   "mimetype": "text/x-python",
   "name": "python",
   "nbconvert_exporter": "python",
   "pygments_lexer": "ipython3",
   "version": "3.10.12"
  }
 },
 "nbformat": 4,
 "nbformat_minor": 2
}
