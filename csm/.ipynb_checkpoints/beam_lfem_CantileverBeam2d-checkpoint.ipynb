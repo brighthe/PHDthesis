{
 "cells": [
  {
   "cell_type": "code",
   "execution_count": 1,
   "id": "10613517-e169-43e3-aac3-9fd8aade93dc",
   "metadata": {},
   "outputs": [],
   "source": [
    "from fealpy.pde.beam_model import CantileveredSimplySupportedBeam\n",
    "\n",
    "from fealpy.functionspace import LagrangeFESpace\n",
    "\n",
    "from fealpy.fem import BilinearForm\n",
    "from fealpy.fem import EulerBernoulliCantileverBeamStructureIntegrator\n",
    "from fealpy.fem import DirichletBC\n",
    "\n",
    "from scipy.sparse.linalg import spsolve\n",
    "\n",
    "import matplotlib.pyplot as plt\n",
    "import numpy as np"
   ]
  },
  {
   "cell_type": "code",
   "execution_count": 2,
   "id": "21236247-de9a-4ccb-af94-46cbcd73740c",
   "metadata": {},
   "outputs": [
    {
     "name": "stdout",
     "output_type": "stream",
     "text": [
      "node:\n",
      " [[0. ]\n",
      " [5. ]\n",
      " [7.5]]\n",
      "NN: 3\n",
      "cell:\n",
      " [[0 1]\n",
      " [1 2]]\n",
      "NC: 2\n"
     ]
    },
    {
     "data": {
      "image/png": "[encoded data removed]",
      "text/plain": [
       "<Figure size 640x480 with 1 Axes>"
      ]
     },
     "metadata": {},
     "output_type": "display_data"
    }
   ],
   "source": [
    "pde = CantileveredSimplySupportedBeam()\n",
    "\n",
    "mesh = pde.init_mesh()\n",
    "node = mesh.entity('node')\n",
    "NN = mesh.number_of_nodes()\n",
    "cell = mesh.entity('cell')\n",
    "NC = mesh.number_of_cells()\n",
    "print(\"node:\\n\", node)\n",
    "print(\"NN:\", NN)\n",
    "print(\"cell:\\n\", cell)\n",
    "print(\"NC:\", NC)\n",
    "\n",
    "fig = plt.figure()\n",
    "axes = fig.gca()\n",
    "mesh.add_plot(axes)\n",
    "mesh.find_node(axes, showindex=True, fontsize=12, fontcolor='r')\n",
    "mesh.find_cell(axes, showindex=True, fontsize=12, fontcolor='g')\n",
    "plt.show()"
   ]
  },
  {
   "cell_type": "code",
   "execution_count": 3,
   "id": "91c308e3-86d1-486e-b962-9e1375354cb3",
   "metadata": {},
   "outputs": [
    {
     "name": "stdout",
     "output_type": "stream",
     "text": [
      "GD: 1\n",
      "gdof: 3\n",
      "ldof: 2\n",
      "uh:(gdof, GD)\n",
      " [[0. 0.]\n",
      " [0. 0.]\n",
      " [0. 0.]]\n",
      "(3, 2)\n"
     ]
    }
   ],
   "source": [
    "GD = mesh.geo_dimension()\n",
    "print(\"GD:\", GD)\n",
    "\n",
    "space = LagrangeFESpace(mesh, p=1, spacetype='C', doforder='vdims')\n",
    "\n",
    "gdof = space.number_of_global_dofs()\n",
    "ldof = space.number_of_local_dofs()\n",
    "print(\"gdof:\", gdof)\n",
    "print(\"ldof:\", ldof)\n",
    "\n",
    "uh = space.function(dim=2) \n",
    "print(\"uh:(gdof, GD)\\n\", uh)\n",
    "print(uh.shape)"
   ]
  },
  {
   "cell_type": "code",
   "execution_count": 4,
   "id": "b099f4f9-0598-4577-9214-0eca4a85b6df",
   "metadata": {},
   "outputs": [
    {
     "name": "stdout",
     "output_type": "stream",
     "text": [
      "space: (<fealpy.functionspace.lagrange_fe_space.LagrangeFESpace object at 0x7fb32a9a76d0>, <fealpy.functionspace.lagrange_fe_space.LagrangeFESpace object at 0x7fb32a9a76d0>)\n",
      "bform: <fealpy.fem.bilinear_form.BilinearForm object at 0x7fb32a9e21a0>\n"
     ]
    }
   ],
   "source": [
    "vspace = 2*(space, ) # 把标量空间张成向量空间\n",
    "print(\"space:\", vspace)\n",
    "\n",
    "bform = BilinearForm(vspace)\n",
    "print(\"bform:\", bform)"
   ]
  },
  {
   "cell_type": "code",
   "execution_count": 5,
   "id": "abcd7e42-d642-47f0-8964-6a828c0b7687",
   "metadata": {
    "tags": []
   },
   "outputs": [
    {
     "name": "stdout",
     "output_type": "stream",
     "text": [
      "局部坐标系下的单元刚度矩阵 K:\n",
      " [[[  2277120.   5692800.  -2277120.   5692800.]\n",
      "  [  5692800.  18976000.  -5692800.   9488000.]\n",
      "  [ -2277120.  -5692800.   2277120.  -5692800.]\n",
      "  [  5692800.   9488000.  -5692800.  18976000.]]\n",
      "\n",
      " [[ 18216960.  22771200. -18216960.  22771200.]\n",
      "  [ 22771200.  37952000. -22771200.  18976000.]\n",
      "  [-18216960. -22771200.  18216960. -22771200.]\n",
      "  [ 22771200.  18976000. -22771200.  37952000.]]]\n",
      "单元的单位切矢量 tan:\n",
      " [[1.]\n",
      " [1.]]\n",
      "单元的坐标变换矩阵T:\n",
      " [[[1. 0. 0. 0.]\n",
      "  [0. 1. 0. 0.]\n",
      "  [0. 0. 1. 0.]\n",
      "  [0. 0. 0. 1.]]\n",
      "\n",
      " [[1. 0. 0. 0.]\n",
      "  [0. 1. 0. 0.]\n",
      "  [0. 0. 1. 0.]\n",
      "  [0. 0. 0. 1.]]]\n",
      "全局坐标系下的单元刚度矩阵 k1, k2: (NC, 2*2, 2*2) \n",
      " [[[  2277120.   5692800.  -2277120.   5692800.]\n",
      "  [  5692800.  18976000.  -5692800.   9488000.]\n",
      "  [ -2277120.  -5692800.   2277120.  -5692800.]\n",
      "  [  5692800.   9488000.  -5692800.  18976000.]]\n",
      "\n",
      " [[ 18216960.  22771200. -18216960.  22771200.]\n",
      "  [ 22771200.  37952000. -22771200.  18976000.]\n",
      "  [-18216960. -22771200.  18216960. -22771200.]\n",
      "  [ 22771200.  18976000. -22771200.  37952000.]]]\n"
     ]
    }
   ],
   "source": [
    "E0 = pde.E # 杨氏模量\n",
    "I0 = pde.I # 惯性矩\n",
    "A0 = pde.A # 截面面积\n",
    "\n",
    "print(\"全局坐标系下的单元刚度矩阵 k1, k2: (NC, 2*2, 2*2) \\n\", EulerBernoulliCantileverBeamStructureIntegrator(E0, I0, A0).assembly_cell_matrix(vspace))"
   ]
  },
  {
   "cell_type": "code",
   "execution_count": 6,
   "id": "fb14e72a-0f80-486f-8613-86a8bb1e3729",
   "metadata": {
    "tags": []
   },
   "outputs": [
    {
     "name": "stdout",
     "output_type": "stream",
     "text": [
      "CM (2, 4, 4) :\n",
      " [[[0. 0. 0. 0.]\n",
      "  [0. 0. 0. 0.]\n",
      "  [0. 0. 0. 0.]\n",
      "  [0. 0. 0. 0.]]\n",
      "\n",
      " [[0. 0. 0. 0.]\n",
      "  [0. 0. 0. 0.]\n",
      "  [0. 0. 0. 0.]\n",
      "  [0. 0. 0. 0.]]]\n",
      "局部坐标系下的单元刚度矩阵 K:\n",
      " [[[  2277120.   5692800.  -2277120.   5692800.]\n",
      "  [  5692800.  18976000.  -5692800.   9488000.]\n",
      "  [ -2277120.  -5692800.   2277120.  -5692800.]\n",
      "  [  5692800.   9488000.  -5692800.  18976000.]]\n",
      "\n",
      " [[ 18216960.  22771200. -18216960.  22771200.]\n",
      "  [ 22771200.  37952000. -22771200.  18976000.]\n",
      "  [-18216960. -22771200.  18216960. -22771200.]\n",
      "  [ 22771200.  18976000. -22771200.  37952000.]]]\n",
      "单元的单位切矢量 tan:\n",
      " [[1.]\n",
      " [1.]]\n",
      "单元的坐标变换矩阵T:\n",
      " [[[1. 0. 0. 0.]\n",
      "  [0. 1. 0. 0.]\n",
      "  [0. 0. 1. 0.]\n",
      "  [0. 0. 0. 1.]]\n",
      "\n",
      " [[1. 0. 0. 0.]\n",
      "  [0. 1. 0. 0.]\n",
      "  [0. 0. 1. 0.]\n",
      "  [0. 0. 0. 1.]]]\n",
      "CM (2, 4, 4) :\n",
      " [[[  2277120.   5692800.  -2277120.   5692800.]\n",
      "  [  5692800.  18976000.  -5692800.   9488000.]\n",
      "  [ -2277120.  -5692800.   2277120.  -5692800.]\n",
      "  [  5692800.   9488000.  -5692800.  18976000.]]\n",
      "\n",
      " [[ 18216960.  22771200. -18216960.  22771200.]\n",
      "  [ 22771200.  37952000. -22771200.  18976000.]\n",
      "  [-18216960. -22771200.  18216960. -22771200.]\n",
      "  [ 22771200.  18976000. -22771200.  37952000.]]]\n",
      "全局刚度矩阵 KK, (2*gdof, 2*gdof) (6, 6) :\n",
      " [[  2277120.   5692800.  -2277120.   5692800.         0.         0.]\n",
      " [  5692800.  18976000.  -5692800.   9488000.         0.         0.]\n",
      " [ -2277120.  -5692800.  20494080.  17078400. -18216960.  22771200.]\n",
      " [  5692800.   9488000.  17078400.  56928000. -22771200.  18976000.]\n",
      " [        0.         0. -18216960. -22771200.  18216960. -22771200.]\n",
      " [        0.         0.  22771200.  18976000. -22771200.  37952000.]]\n"
     ]
    }
   ],
   "source": [
    "bform.add_domain_integrator(EulerBernoulliCantileverBeamStructureIntegrator(E0, I0, A0))\n",
    "KK = bform.assembly() # 基函数由标量函数组合而成的向量函数空间\n",
    "\n",
    "print(\"全局刚度矩阵 KK, (2*gdof, 2*gdof)\", KK.toarray().shape, \":\\n\", KK.toarray())"
   ]
  },
  {
   "cell_type": "code",
   "execution_count": 7,
   "id": "6fe01901-1eb9-4792-8a16-5515a137e6ec",
   "metadata": {},
   "outputs": [
    {
     "name": "stdout",
     "output_type": "stream",
     "text": [
      "F:(gdof 2)\n",
      " [[0. 0.]\n",
      " [0. 0.]\n",
      " [0. 0.]]\n",
      "idx: [0 1 2]\n",
      "f:\n",
      " [[-62500 -52083]\n",
      " [-93750  39062]\n",
      " [-31250  13021]]\n",
      "F[idx]:\n",
      " [[0. 0.]\n",
      " [0. 0.]\n",
      " [0. 0.]]\n",
      "F[idx]:\n",
      " [[-62500. -52083.]\n",
      " [-93750.  39062.]\n",
      " [-31250.  13021.]]\n",
      "F:\n",
      " [[-62500. -52083.]\n",
      " [-93750.  39062.]\n",
      " [-31250.  13021.]]\n"
     ]
    }
   ],
   "source": [
    " # 加载力的条件 \n",
    "F = np.zeros((uh.shape[0], 2), dtype=np.float64)\n",
    "print(\"F:(gdof 2)\\n\", F)\n",
    "\n",
    "idx, f = mesh.meshdata['force_bc']\n",
    "print(\"idx:\", idx)\n",
    "print(\"f:\\n\", f)\n",
    "print(\"F[idx]:\\n\", F[idx])\n",
    "F[idx] = f \n",
    "print(\"F[idx]:\\n\", F[idx])\n",
    "print(\"F:\\n\", F)"
   ]
  },
  {
   "cell_type": "code",
   "execution_count": 8,
   "id": "d5c17390-ed78-4412-a7ff-5ffade97fe7c",
   "metadata": {},
   "outputs": [
    {
     "name": "stdout",
     "output_type": "stream",
     "text": [
      "idx: [0 1]\n",
      "disp: [0. 0.]\n"
     ]
    }
   ],
   "source": [
    "idx, disp = mesh.meshdata['disp_bc']\n",
    "print(\"idx:\", idx)\n",
    "print(\"disp:\", disp)\n",
    "bc = DirichletBC(vspace, disp, threshold=idx)"
   ]
  },
  {
   "cell_type": "code",
   "execution_count": 9,
   "id": "afb574cc-0231-42ab-9a43-ca0655ad0f97",
   "metadata": {},
   "outputs": [
    {
     "name": "stdout",
     "output_type": "stream",
     "text": [
      "idx1: [0 1 2]\n",
      "A:(GD*gdof, GD*gdof)\n",
      " [[ 1.000000e+00  0.000000e+00  0.000000e+00  0.000000e+00  0.000000e+00\n",
      "   0.000000e+00]\n",
      " [ 0.000000e+00  1.000000e+00  0.000000e+00  0.000000e+00  0.000000e+00\n",
      "   0.000000e+00]\n",
      " [ 0.000000e+00  0.000000e+00  1.000000e+00  0.000000e+00  0.000000e+00\n",
      "   0.000000e+00]\n",
      " [ 0.000000e+00  0.000000e+00  0.000000e+00  5.692800e+07 -2.277120e+07\n",
      "   1.897600e+07]\n",
      " [ 0.000000e+00  0.000000e+00  0.000000e+00 -2.277120e+07  1.821696e+07\n",
      "  -2.277120e+07]\n",
      " [ 0.000000e+00  0.000000e+00  0.000000e+00  1.897600e+07 -2.277120e+07\n",
      "   3.795200e+07]]\n",
      "F:(GD*gdof)\n",
      " [     0.      0.      0.  39062. -31250.  13021.]\n"
     ]
    }
   ],
   "source": [
    "# 按分量处理自由度索引\n",
    "idx1 = np.array([0, 1, 2])\n",
    "print(\"idx1:\", idx1)\n",
    "A, F = bc.apply(KK, F.flat, uh, dflag=idx1)\n",
    "print(\"A:(GD*gdof, GD*gdof)\\n\", np.round(A.toarray(), decimals=2))\n",
    "print(\"F:(GD*gdof)\\n\", F)"
   ]
  },
  {
   "cell_type": "code",
   "execution_count": 10,
   "id": "eb5c073b-16cf-4532-ad4b-de042af2d293",
   "metadata": {},
   "outputs": [
    {
     "name": "stdout",
     "output_type": "stream",
     "text": [
      "uh: [[ 0.          0.        ]\n",
      " [ 0.         -0.00137237]\n",
      " [-0.00857719 -0.00411704]]\n"
     ]
    }
   ],
   "source": [
    "uh.flat[:] = spsolve(A, F)\n",
    "print(\"uh:\", uh)"
   ]
  }
 ],
 "metadata": {
  "kernelspec": {
   "display_name": "Python 3 (ipykernel)",
   "language": "python",
   "name": "python3"
  },
  "language_info": {
   "codemirror_mode": {
    "name": "ipython",
    "version": 3
   },
   "file_extension": ".py",
   "mimetype": "text/x-python",
   "name": "python",
   "nbconvert_exporter": "python",
   "pygments_lexer": "ipython3",
   "version": "3.10.12"
  }
 },
 "nbformat": 4,
 "nbformat_minor": 5
}
